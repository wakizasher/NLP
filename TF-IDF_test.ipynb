{
 "cells": [
  {
   "cell_type": "code",
   "execution_count": 1,
   "metadata": {
    "collapsed": true
   },
   "outputs": [],
   "source": [
    "from sklearn.feature_extraction.text import TfidfVectorizer\n",
    "\n",
    "corpus = [ \"Thor eating pizza, Loki is eating pizza, Ironman ate pizza already\",\n",
    "    \"Apple is announcing new iphone tomorrow\",\n",
    "    \"Tesla is announcing new model-3 tomorrow\",\n",
    "    \"Google is announcing new pixel-6 tomorrow\",\n",
    "    \"Microsoft is announcing new surface tomorrow\",\n",
    "    \"Amazon is announcing new eco-dot tomorrow\",\n",
    "    \"I am eating biryani and you are eating grapes\"]"
   ]
  },
  {
   "cell_type": "code",
   "execution_count": 2,
   "outputs": [
    {
     "name": "stdout",
     "output_type": "stream",
     "text": [
      "{'thor': 25, 'eating': 10, 'pizza': 22, 'loki': 17, 'is': 16, 'ironman': 15, 'ate': 7, 'already': 0, 'apple': 5, 'announcing': 4, 'new': 20, 'iphone': 14, 'tomorrow': 26, 'tesla': 24, 'model': 19, 'google': 12, 'pixel': 21, 'microsoft': 18, 'surface': 23, 'amazon': 2, 'eco': 11, 'dot': 9, 'am': 1, 'biryani': 8, 'and': 3, 'you': 27, 'are': 6, 'grapes': 13}\n"
     ]
    }
   ],
   "source": [
    "v = TfidfVectorizer()\n",
    "transformed_output = v.fit_transform(corpus)\n",
    "print(v.vocabulary_)"
   ],
   "metadata": {
    "collapsed": false
   }
  },
  {
   "cell_type": "code",
   "execution_count": 3,
   "outputs": [
    {
     "name": "stdout",
     "output_type": "stream",
     "text": [
      "already | 2.386294361119891\n",
      "am | 2.386294361119891\n",
      "amazon | 2.386294361119891\n",
      "and | 2.386294361119891\n",
      "announcing | 1.2876820724517808\n",
      "apple | 2.386294361119891\n",
      "are | 2.386294361119891\n",
      "ate | 2.386294361119891\n",
      "biryani | 2.386294361119891\n",
      "dot | 2.386294361119891\n",
      "eating | 1.9808292530117262\n",
      "eco | 2.386294361119891\n",
      "google | 2.386294361119891\n",
      "grapes | 2.386294361119891\n",
      "iphone | 2.386294361119891\n",
      "ironman | 2.386294361119891\n",
      "is | 1.1335313926245225\n",
      "loki | 2.386294361119891\n",
      "microsoft | 2.386294361119891\n",
      "model | 2.386294361119891\n",
      "new | 1.2876820724517808\n",
      "pixel | 2.386294361119891\n",
      "pizza | 2.386294361119891\n",
      "surface | 2.386294361119891\n",
      "tesla | 2.386294361119891\n",
      "thor | 2.386294361119891\n",
      "tomorrow | 1.2876820724517808\n",
      "you | 2.386294361119891\n"
     ]
    }
   ],
   "source": [
    "all_feature_names = v.get_feature_names_out()\n",
    "for word in all_feature_names:\n",
    "    index = v.vocabulary_.get(word)\n",
    "    print(f\"{word} | {v.idf_[index]}\")"
   ],
   "metadata": {
    "collapsed": false
   }
  },
  {
   "cell_type": "code",
   "execution_count": 4,
   "outputs": [
    {
     "data": {
      "text/plain": "                                              review sentiment  IsPositive\n0  'Can love ever be stronger than fate?' dat sta...  positive           1\n1  Er wordt in het verhaal gebruik gemaakt van gl...  positive           1\n2  Verder vond ik het een origineel verhaal met e...  positive           1\n3  Ik ben gaan meeleven met Ella en vind het erg ...  positive           1\n4            Lees ook het interview met N.J. Simmons  positive           1",
      "text/html": "<div>\n<style scoped>\n    .dataframe tbody tr th:only-of-type {\n        vertical-align: middle;\n    }\n\n    .dataframe tbody tr th {\n        vertical-align: top;\n    }\n\n    .dataframe thead th {\n        text-align: right;\n    }\n</style>\n<table border=\"1\" class=\"dataframe\">\n  <thead>\n    <tr style=\"text-align: right;\">\n      <th></th>\n      <th>review</th>\n      <th>sentiment</th>\n      <th>IsPositive</th>\n    </tr>\n  </thead>\n  <tbody>\n    <tr>\n      <th>0</th>\n      <td>'Can love ever be stronger than fate?' dat sta...</td>\n      <td>positive</td>\n      <td>1</td>\n    </tr>\n    <tr>\n      <th>1</th>\n      <td>Er wordt in het verhaal gebruik gemaakt van gl...</td>\n      <td>positive</td>\n      <td>1</td>\n    </tr>\n    <tr>\n      <th>2</th>\n      <td>Verder vond ik het een origineel verhaal met e...</td>\n      <td>positive</td>\n      <td>1</td>\n    </tr>\n    <tr>\n      <th>3</th>\n      <td>Ik ben gaan meeleven met Ella en vind het erg ...</td>\n      <td>positive</td>\n      <td>1</td>\n    </tr>\n    <tr>\n      <th>4</th>\n      <td>Lees ook het interview met N.J. Simmons</td>\n      <td>positive</td>\n      <td>1</td>\n    </tr>\n  </tbody>\n</table>\n</div>"
     },
     "execution_count": 4,
     "metadata": {},
     "output_type": "execute_result"
    }
   ],
   "source": [
    "import pandas as pd\n",
    "import spacy\n",
    "reviews_df = pd.read_csv(r\"C:\\Users\\nikit\\Documents\\Graduation internship\\NLP\\Datasets\\dutch_book_reviews.csv\")\n",
    "reviews_df.head()"
   ],
   "metadata": {
    "collapsed": false
   }
  },
  {
   "cell_type": "code",
   "execution_count": 5,
   "outputs": [],
   "source": [
    "from sklearn.model_selection import train_test_split\n",
    "X_train, X_test, y_train, y_test = train_test_split(reviews_df.review, reviews_df.IsPositive, test_size= 0.2)"
   ],
   "metadata": {
    "collapsed": false
   }
  },
  {
   "cell_type": "code",
   "execution_count": 6,
   "outputs": [
    {
     "name": "stdout",
     "output_type": "stream",
     "text": [
      "Shape of X_train:  (82516,)\n",
      "Shape of X_test:  (20630,)\n"
     ]
    }
   ],
   "source": [
    "print(\"Shape of X_train: \",X_train.shape)\n",
    "print(\"Shape of X_test: \", X_test.shape)"
   ],
   "metadata": {
    "collapsed": false
   }
  },
  {
   "cell_type": "code",
   "execution_count": 7,
   "outputs": [
    {
     "data": {
      "text/plain": "<82516x103727 sparse matrix of type '<class 'numpy.float64'>'\n\twith 3263358 stored elements in Compressed Sparse Row format>"
     },
     "execution_count": 7,
     "metadata": {},
     "output_type": "execute_result"
    }
   ],
   "source": [
    "v = TfidfVectorizer()\n",
    "X_train_cv = v.fit_transform(X_train.values)\n",
    "X_train_cv"
   ],
   "metadata": {
    "collapsed": false
   }
  },
  {
   "cell_type": "code",
   "execution_count": 8,
   "outputs": [
    {
     "data": {
      "text/plain": "{'schrijfster': 77056,\n 'linda': 51015,\n 'conrad': 17640,\n 'leeft': 49336,\n 'al': 4281,\n '11': 68,\n 'jaar': 42296,\n 'lang': 48873,\n 'afgezonderd': 3494,\n 'in': 40470,\n 'haar': 35499,\n 'villa': 95075,\n 'nadat': 58122,\n 'ze': 101574,\n 'getraumatiseerd': 32597,\n 'is': 42090,\n 'geraakt': 31798,\n 'doordat': 21864,\n 'zus': 103140,\n 'anna': 5468,\n 'vermoord': 93249,\n 'heeft': 36696,\n 'gevonden': 32875,\n 'de': 19386,\n 'dader': 18853,\n 'op': 63775,\n 'vlucht': 95629,\n 'als': 4809,\n 'een': 24027,\n 'schim': 76522,\n 'gezien': 33176,\n 'na': 57946,\n 'meent': 54576,\n 'hem': 37077,\n 'te': 84936,\n 'herkennen': 37353,\n 'tv': 89023,\n 'en': 25053,\n 'besluit': 10052,\n 'val': 90905,\n 'lokken': 51481,\n 'om': 60832,\n 'zo': 102608,\n 'bekentenis': 8880,\n 'van': 91017,\n 'af': 3193,\n 'dwingen': 23676,\n 'oei': 60497,\n 'was': 98213,\n 'het': 37627,\n 'boek': 12442,\n 'dan': 19073,\n 'slecht': 79193,\n 'nee': 58812,\n 'maar': 52426,\n 'wel': 98999,\n 'ik': 40231,\n 'moet': 56695,\n 'beoordelen': 9523,\n 'thriller': 86305,\n 'dit': 21126,\n 'uitgegeven': 89620,\n 'onder': 61418,\n 'genre': 31496,\n 'roman': 74152,\n 'had': 35593,\n 'geheel': 30445,\n 'personages': 67520,\n 'beter': 10337,\n 'begrepen': 8647,\n 'omdat': 60856,\n 'plot': 68642,\n 'meer': 54582,\n 'gaat': 29057,\n 'over': 65412,\n 'dramatische': 22574,\n 'gebeurtenis': 29619,\n 'die': 20553,\n 'joris': 43268,\n 'veroorzaakt': 93390,\n 'binnen': 11452,\n 'zijn': 102401,\n 'gezin': 33178,\n 'hoe': 38074,\n 'gezinsleden': 33196,\n 'hier': 37746,\n 'elk': 24814,\n 'hun': 39547,\n 'eigen': 24380,\n 'manier': 53147,\n 'mee': 54425,\n 'omgaan': 60876,\n 'verdwijning': 92197,\n 'voldoende': 95972,\n 'uitgeschreven': 89728,\n 'geweest': 32936,\n 'focus': 28186,\n 'anders': 5256,\n 'ligt': 50849,\n 'er': 25402,\n 'waren': 98161,\n 'ook': 63552,\n 'belangrijke': 9046,\n 'zaken': 101417,\n 'snel': 79881,\n 'werden': 99192,\n 'afgehandeld': 3326,\n 'zoals': 102612,\n 'terugvinden': 85905,\n 'dochter': 21238,\n 'evi': 26058,\n 'bijna': 11246,\n 'aan': 1463,\n 'einde': 24512,\n 'dacht': 18841,\n 'nog': 59768,\n 'spanningsmoment': 80556,\n 'mogen': 56715,\n 'meepikken': 54577,\n 'mis': 56107,\n 'bleef': 11874,\n 'met': 55320,\n 'hongertje': 38470,\n 'zitten': 102589,\n 'nochtans': 59735,\n 'erg': 25488,\n 'verrassend': 93491,\n 'zeer': 101670,\n 'warrige': 98195,\n 'rommelige': 74244,\n 'soms': 80296,\n 'ongeloofwaardige': 62023,\n 'uitgewerkt': 89806,\n 'kon': 46890,\n 'veel': 91400,\n 'gemaakt': 31142,\n 'worden': 100762,\n 'alles': 4669,\n 'verdient': 92066,\n 'peter': 67681,\n 'robinson': 73866,\n 'mij': 55696,\n 'ruim': 74887,\n 'vier': 94889,\n 'sterren': 82288,\n 'verhaal': 92456,\n 'aangrijpend': 1737,\n 'emotioneel': 25019,\n 'pakt': 66324,\n 'je': 42665,\n 'vast': 91206,\n 'zit': 102580,\n 'humor': 39529,\n 'mysterie': 57853,\n 'maakt': 52365,\n 'tot': 87861,\n 'pageturner': 66256,\n 'lezer': 50369,\n 'ga': 29035,\n 'namelijk': 58319,\n 'dingen': 20910,\n 'jezelf': 42921,\n 'vinden': 95111,\n 'titel': 86973,\n 'daarom': 18817,\n 'perfect': 67402,\n 'gekozen': 30755,\n 'auteur': 6815,\n 'houdt': 39102,\n 'spiegel': 80864,\n 'voor': 96241,\n 'grootste': 35069,\n 'boodschap': 13076,\n 'wees': 98638,\n 'niet': 59411,\n 'persoon': 67553,\n 'anderen': 5247,\n 'willen': 100063,\n 'dat': 19261,\n 'bent': 9483,\n 'wat': 98247,\n 'lijkt': 50907,\n 'groei': 34863,\n 'blijf': 11912,\n 'of': 60585,\n 'wordt': 100773,\n 'vallen': 90957,\n 'opstaan': 64695,\n 'kom': 46845,\n 'iedereen': 40029,\n 'vriendschap': 97139,\n 'nodig': 59742,\n 'zeker': 101803,\n 'slachtoffers': 79076,\n 'wereld': 99198,\n 'veilig': 91535,\n 'twijfelen': 89177,\n 'wie': 99755,\n 'kunt': 48188,\n 'vertrouwen': 94171,\n 'heb': 36613,\n 'verschillende': 93620,\n 'vlakken': 95397,\n 'genoten': 31487,\n 'komt': 46889,\n 'terecht': 85608,\n 'vreselijke': 97076,\n 'inrichting': 41316,\n 'waar': 97680,\n 'geesteszieken': 30236,\n 'opgesloten': 64198,\n 'streng': 83061,\n 'bewaakt': 10652,\n 'makkelijk': 52939,\n 'lezen': 50359,\n 'lach': 48570,\n 'mijn': 55714,\n 'gezicht': 33155,\n 'gelezen': 30960,\n 'winkel': 100166,\n 'kijken': 45283,\n 'want': 98099,\n 'schijnen': 76435,\n 'foto': 28421,\n 'staan': 81528,\n 'daar': 18788,\n 'ben': 9336,\n 'benieuwd': 9439,\n 'naar': 58003,\n '26': 695,\n 'september': 77934,\n 'uit': 89363,\n 'aanrader': 1946,\n 'doen': 21375,\n 'durven': 23517,\n 'waarheid': 97736,\n 'staat': 81538,\n 'aarde': 2265,\n 'gekerfd': 30653,\n 'draag': 22439,\n 'jouw': 43344,\n 'ronde': 74287,\n 'licht': 50491,\n 'dci': 19380,\n 'erika': 25523,\n 'foster': 28420,\n 'actie': 2838,\n 'deze': 20360,\n 'keer': 44649,\n 'koud': 47362,\n 'londen': 51522,\n 'eerder': 24159,\n 'tegengestelde': 85075,\n 'warm': 98172,\n 'hittegolf': 38001,\n 'hij': 37803,\n 'schilderij': 76481,\n 'ziet': 102355,\n 'the': 86052,\n 'art': 6320,\n 'galery': 29140,\n 'sidney': 78488,\n 'zoekt': 102650,\n 'via': 94814,\n 'privédetective': 70051,\n 'eigenares': 24391,\n 'inderdaad': 40618,\n 'irene': 42029,\n 'woont': 100683,\n 'blijkt': 11921,\n 'eilandje': 24475,\n 'geen': 30184,\n 'reguliere': 72576,\n 'verbinding': 91854,\n 'man': 53067,\n 'zegt': 101757,\n 'tegen': 85053,\n 'thuisfront': 86474,\n 'voorlopig': 96505,\n 'vertrekt': 94147,\n 'eiland': 24458,\n 'wonen': 100611,\n 'gammel': 29206,\n 'huis': 39286,\n 'ziek': 102231,\n 'doodziek': 21786,\n 'oud': 65281,\n 'komen': 46855,\n 'ineens': 40750,\n 'schwind': 77378,\n 'gundlach': 35320,\n 'laten': 49084,\n 'tentoonstellen': 85588,\n 'hen': 37128,\n 'toe': 87083,\n 'wil': 99990,\n 'zien': 102343,\n 'niets': 59421,\n 'halen': 35687,\n 'museum': 57666,\n 'geschonken': 32179,\n 'nooit': 59871,\n 'gestolen': 32447,\n 'opgegeven': 64096,\n 'vertrekken': 94142,\n 'weer': 98537,\n 'zonder': 102845,\n 'aandacht': 1511,\n 'minachting': 55915,\n '38': 859,\n 'dood': 21651,\n 'agatha': 4057,\n 'christie': 16483,\n 'krijgt': 47676,\n 'britse': 14150,\n 'sophie': 80361,\n 'hannah': 36052,\n 'toestemming': 87364,\n 'erfgenamen': 25479,\n 'speurder': 80823,\n 'hercule': 37233,\n 'poirot': 68853,\n 'eenmaal': 24087,\n 'leven': 50118,\n 'wekken': 98993,\n 'monogram': 56899,\n 'moorden': 57056,\n 'raakt': 71248,\n 'betrokken': 10417,\n 'bij': 11070,\n 'onderzoek': 61774,\n 'drie': 22693,\n 'identieke': 39957,\n 'hotel': 39046,\n 'bloxham': 12292,\n 'kroonprinses': 47841,\n 'waarin': 97747,\n 'we': 98387,\n 'kennis': 44799,\n 'maken': 52926,\n 'anidori': 5407,\n 'kiladra': 45311,\n 'talianna': 84621,\n 'isilee': 42129,\n 'korte': 47249,\n 'beschrijving': 9993,\n 'geboorte': 29686,\n 'totdat': 87877,\n '16': 222,\n 'jarige': 42597,\n 'leeftijd': 49337,\n 'bereikt': 9616,\n 'goed': 33982,\n 'debuur': 19455,\n 'jansma': 42534,\n 'genoeg': 31459,\n 'spanning': 80532,\n 'schakeling': 76052,\n 'tussen': 88943,\n 'heden': 36667,\n 'verleden': 92988,\n 'vervelend': 94228,\n 'denkt': 19949,\n 'hele': 36977,\n 'tijd': 86652,\n 'weten': 99570,\n 'hand': 35891,\n 'liggend': 50837,\n 'andere': 5246,\n 'denken': 19920,\n 'word': 100760,\n 'gesuggereerd': 32506,\n 'conclusie': 17493,\n 'klikspaan': 46079,\n 'arlidge': 6174,\n 'zondermeer': 102850,\n 'ijzersterke': 40219,\n 'net': 59138,\n 'samenspel': 75483,\n 'beide': 8812,\n 'perspectieven': 67596,\n 'interessant': 41605,\n 'enige': 25213,\n 'spijtige': 80941,\n 'evenwicht': 26022,\n 'beetje': 8508,\n 'verstoord': 93897,\n 'archer': 6022,\n 'even': 25990,\n 'vaak': 90687,\n 'bod': 12376,\n 'bree': 13915,\n 'boeiende': 12434,\n 'ontwikkeling': 63121,\n 'hoofdpersonage': 38606,\n 'dus': 23520,\n 'onderbelicht': 61427,\n 'blijft': 11913,\n 'inktzwart': 41191,\n 'hart': 36301,\n 'laat': 48512,\n 'ellory': 24857,\n 'opnieuw': 64479,\n 'beste': 10156,\n 'misdaadauteurs': 56135,\n 'weliswaar': 99051,\n 'somber': 80264,\n 'deprimerend': 20018,\n 'heel': 36697,\n 'geschreven': 32196,\n 'lezers': 50373,\n 'soort': 80350,\n 'uitstekende': 90120,\n 'gewelddadige': 32952,\n 'thrillers': 86404,\n 'houden': 39093,\n 'overweldigende': 66006,\n 'leeservaring': 49503,\n 'onbeminde': 61272,\n 'vrouw': 97315,\n 'nele': 59012,\n 'neuhaus': 59174,\n 'eerste': 24177,\n 'deel': 19557,\n 'serie': 77971,\n 'hoofdinspecteur': 38567,\n 'olivier': 60800,\n 'von': 96205,\n 'bodenstein': 12395,\n 'nieuwe': 59454,\n 'collega': 17087,\n 'pia': 67828,\n 'kirchoff': 45634,\n 'meeste': 54670,\n 'liefhebbers': 50704,\n 'boeken': 12466,\n 'kennen': 44792,\n 'twee': 89044,\n 'rechercheurs': 72064,\n 'vond': 96207,\n 'leuk': 50074,\n 'echt': 23847,\n 'dubbel': 23139,\n 'dik': 20846,\n 'opligt': 64419,\n 'gedaan': 29881,\n 'finale': 27663,\n 'lily': 50980,\n 'circus': 16615,\n 'adembenemend': 2969,\n 'huiveringwekkend': 39403,\n 'kan': 43980,\n 'me': 54211,\n 'voorstellen': 96640,\n 'droge': 22838,\n 'ogen': 60638,\n 'volkskrant': 96070,\n '22': 631,\n 'oktober': 60695,\n '2015': 558,\n 'vertelt': 94070,\n 'willem': 100056,\n 'meijer': 54829,\n 'grootmeester': 35046,\n 'orde': 65009,\n 'vrijmetselaars': 97243,\n 'plaatsvond': 68272,\n '1988': 508,\n 'één': 103635,\n 'leden': 49295,\n 'onthult': 62721,\n 'medebroeders': 54263,\n '17': 276,\n 'hebben': 36629,\n 'gepleegd': 31700,\n 'besluiten': 10056,\n 'eed': 23999,\n 'geheimhouding': 30459,\n 'breken': 13970,\n 'aangifte': 1731,\n 'autoriteiten': 6929,\n 'anne': 5483,\n 'gine': 33564,\n 'goemans': 34075,\n 'lucht': 51909,\n 'gebruikt': 29776,\n 'gegeven': 30357,\n 'honolulu': 38504,\n 'king': 45558,\n 'pfoe': 67763,\n 'stomvervelend': 82693,\n 'zeg': 101726,\n 'gebeurt': 29618,\n 'toch': 87065,\n 'eigenlijk': 24415,\n 'kreeg': 47589,\n 'doorgeefboek': 21926,\n 'vol': 95957,\n 'enthousiasme': 25304,\n 'ging': 33566,\n 'erin': 25528,\n 'beginnen': 8591,\n 'ding': 20905,\n 'schrijfstijl': 77060,\n 'sprak': 81305,\n 'waarop': 97774,\n 'verteld': 94028,\n 'vanuit': 91125,\n 'hoofdpersoon': 38614,\n 'helemaal': 36982,\n 'sympathie': 84238,\n 'opbrengen': 63817,\n 'langdradig': 48884,\n 'nu': 60156,\n 'teveel': 85977,\n 'onbelangrijke': 61262,\n 'details': 20203,\n 'ingegaan': 40874,\n 'verder': 92026,\n 'vreselijk': 97075,\n 'ongeloofwaardig': 62022,\n 'gestopt': 32457,\n 'blz': 12324,\n '155': 205,\n 'brengen': 13985,\n 'jammer': 42475,\n 'tegenvalt': 85161,\n 'hopelijk': 38895,\n 'ontvang': 63024,\n 'eens': 24108,\n 'sfeer': 78123,\n 'land': 48781,\n 'mensen': 55085,\n 'levensecht': 50166,\n 'door': 21823,\n 'daardoor': 18799,\n 'werd': 99190,\n 'mooie': 57018,\n 'leesreis': 49580,\n 'gordel': 34245,\n 'smaragd': 79578,\n 'speelt': 80713,\n 'zich': 102210,\n '1947': 462,\n 'verenigde': 92248,\n 'naties': 58505,\n 'tweedeling': 89061,\n 'palestina': 66363,\n 'israël': 42189,\n 'ontstaat': 62988,\n 'daarnaast': 18814,\n 'vondst': 96217,\n 'zgn': 102198,\n 'dode': 21287,\n 'zeerollen': 101673,\n 'oude': 65285,\n 'tekst': 85253,\n 'bijbelboek': 11080,\n 'jesaja': 42781,\n 'achtergrond': 2648,\n 'schrijft': 77063,\n 'historische': 37973,\n 'meteen': 55355,\n 'avonturenverhaal': 7031,\n 'liefdesroman': 50663,\n 'geslaagd': 32245,\n 'prachtige': 69572,\n 'presenteren': 69771,\n 'ruk': 74957,\n 'uitleest': 89925,\n 'intriges': 41800,\n 'bezinning': 10845,\n 'aktie': 4269,\n 'liefde': 50596,\n 'geeft': 30167,\n 'meeslepend': 54647,\n 'beeld': 8418,\n 'worsteling': 100810,\n 'joodse': 43236,\n 'volk': 96037,\n 'kort': 47243,\n 'tweede': 89050,\n 'wereldoorlog': 99267,\n 'aantal': 2085,\n 'overeenkomsten': 65515,\n 'bekende': 8864,\n 'leon': 49894,\n 'uris': 90605,\n 'exodus': 26206,\n 'omslag': 61056,\n 'kleur': 45998,\n 'past': 66892,\n 'heroïsche': 37441,\n 'bevat': 10508,\n 'allerlei': 4647,\n 'personen': 67541,\n 'voorwerpen': 96826,\n 'vrij': 97167,\n 'kleine': 45924,\n 'druk': 23064,\n 'vertaling': 93996,\n 'zal': 101458,\n 'delen': 19755,\n 'omvatten': 61108,\n 'waarvan': 97805,\n 'reeds': 72369,\n 'groot': 35020,\n 'verschenen': 93585,\n 'prikkelende': 69922,\n 'echte': 23851,\n 'aanspreken': 2036,\n 'welke': 99055,\n 'verliefd': 93046,\n 'woorden': 100700,\n 'zinnen': 102518,\n 'verhalen': 92540,\n 'woordspelingen': 100749,\n 'taalgrappen': 84390,\n 'inzichten': 41967,\n 'eyeopeners': 26376,\n 'plaats': 68234,\n 'verbeelding': 91801,\n 'jarenlang': 42585,\n 'hield': 37738,\n 'doeschka': 21392,\n 'meijsing': 54833,\n 'dagboekfragmenten': 18889,\n 'meemaakte': 54561,\n 'later': 49088,\n 'gaf': 29100,\n 'lezingen': 50414,\n 'publiceerde': 70762,\n 'xandra': 101068,\n 'schutte': 77342,\n 'meijsings': 54834,\n 'partner': 66789,\n 'hoofdredacteur': 38629,\n 'groene': 34879,\n 'amsterdammer': 5135,\n 'selecteerde': 77773,\n 'beschouwingen': 9978,\n 'schreef': 76949,\n 'inleiding': 41209,\n 'zowel': 103033,\n 'joan': 42999,\n 'chesworth': 16273,\n 'house': 39114,\n 'hof': 38150,\n 'henry': 37184,\n 'viii': 94976,\n 'doorbrengt': 21859,\n 'beeldende': 8424,\n 'geven': 32783,\n 'mooi': 57015,\n 'inkijkje': 41155,\n 'periode': 67431,\n '1536': 197,\n '1542': 201,\n 'verschil': 93613,\n 'tamelijk': 84662,\n 'luchtige': 51932,\n 'meisjes': 54860,\n 'hofleven': 38169,\n 'roddel': 73936,\n 'haast': 35540,\n 'groter': 35101,\n 'status': 81956,\n 'etiquette': 25861,\n 'omgangsvormen': 60880,\n 'belangrijk': 9045,\n 'vergeten': 92368,\n 'voordeel': 96344,\n 'verkregen': 92938,\n 'overheersende': 65622,\n 'angst': 5365,\n 'luimen': 52058,\n 'terugdeinst': 85754,\n 'geliefde': 30967,\n 'kate': 44469,\n 'roos': 74475,\n 'doorns': 22070,\n 'onthoofden': 62705,\n 'bowman': 13675,\n 'tom': 87514,\n 'wanneer': 98082,\n 'vliegtuig': 95516,\n 'neerstort': 58905,\n 'kortste': 47273,\n 'keren': 44847,\n 'dossier': 22359,\n 'gesloten': 32275,\n 'sigaret': 78545,\n 'zou': 103008,\n 'boosdoener': 13188,\n 'gepakt': 31633,\n 'berecht': 9585,\n 'zaak': 101325,\n 'onjuist': 62252,\n 'halo': 35795,\n 'neemt': 58831,\n 'contact': 17756,\n 'vraagt': 96975,\n 'second': 77571,\n 'opinion': 64326,\n 'toms': 87550,\n 'baas': 7190,\n 'ontdekt': 62622,\n 'brengt': 13990,\n 'langzamerhand': 48955,\n 'zichzelf': 102218,\n 'omgeving': 60914,\n 'gevaar': 32689,\n 'evenals': 25993,\n 'laatste': 48520,\n 'deed': 19547,\n 'stephen': 82207,\n 'regenwolk': 72508,\n 'tijdens': 86665,\n 'warme': 98174,\n 'zomernacht': 102783,\n 'gewoon': 33054,\n 'water': 98254,\n 'bevatten': 10513,\n 'nagels': 58209,\n 'doden': 21293,\n 'heerlijk': 36745,\n 'betreft': 10403,\n 'drang': 22584,\n 'negatief': 58934,\n 'aangeraden': 1665,\n 'depressie': 20006,\n 'werken': 99363,\n 'logeren': 51443,\n 'excentrieke': 26129,\n 'gasten': 29383,\n 'opvallende': 64809,\n 'namen': 58321,\n 'uitgesproken': 89745,\n 'ideeën': 39946,\n 'adriaan': 3094,\n 'aanraking': 1950,\n 'confronterend': 17581,\n 'onvermogen': 63287,\n 'iets': 40057,\n 'voert': 95800,\n 'diepgaande': 20647,\n 'gesprekken': 32361,\n 'uitgebreide': 89582,\n 'maaltijden': 52376,\n 'bezoekt': 10874,\n 'sauna': 75763,\n 'berenjacht': 9633,\n 'componeert': 17369,\n 'begeleidt': 8561,\n 'piano': 67834,\n 'zangeres': 101514,\n 'etmaal': 25865,\n 'leren': 49931,\n 'iemand': 40040,\n 'werkelijkheid': 99355,\n 'vult': 97527,\n 'onbewust': 61369,\n 'gedachten': 29905,\n 'latente': 49087,\n 'verlangens': 92978,\n 'dromen': 22856,\n 'vloeibaar': 95572,\n 'volgen': 95996,\n 'zoektocht': 102652,\n 'zin': 102480,\n 'grote': 35096,\n 'thema': 86123,\n 'haat': 35548,\n 'vormen': 96885,\n 'puzzelstukjes': 70993,\n 'filosofie': 27638,\n 'wetenschap': 99575,\n 'kunst': 48066,\n 'vooral': 96258,\n 'muziek': 57752,\n 'seksualiteit': 77748,\n 'culinaire': 18543,\n 'genoegens': 31463,\n 'onlangs': 62271,\n 'verscheen': 93578,\n 'fraaie': 28516,\n 'marion': 53491,\n 'hardoar': 36184,\n 'vertaalde': 93968,\n 'verhalenbundel': 92544,\n 'straf': 82893,\n 'letterlijk': 50031,\n 'twaalf': 89028,\n 'verwoord': 94529,\n 'verwacht': 94349,\n 'onverwachte': 63327,\n 'wendingen': 99139,\n 'sterke': 82261,\n 'punten': 70891,\n 'taalgebruik': 84385,\n 'sterk': 82260,\n 'ogenschijnlijk': 60646,\n 'zakelijke': 101414,\n 'nodigt': 59748,\n 'schirach': 76557,\n 'zorgvuldig': 102990,\n 'precies': 69658,\n 'vermeende': 93151,\n 'stijl': 82461,\n 'subtiele': 83566,\n 'bergt': 9712,\n 'bepaalde': 9531,\n 'vervreemdend': 94315,\n 'voorbeelden': 96272,\n 'ondanks': 61404,\n 'feit': 27135,\n 'schaduw': 75993,\n 'vorige': 96873,\n 'noemer': 59760,\n 'literaire': 51200,\n 'uitgebracht': 89578,\n 'roer': 74026,\n 'omgegooid': 60892,\n 'tegenstelling': 85140,\n 'vroegere': 97285,\n 'werk': 99339,\n 'bol': 12863,\n 'stond': 82694,\n 'zwarte': 103316,\n 'magie': 52766,\n 'voodoo': 96231,\n 'praktijken': 69613,\n 'bovennatuurlijke': 13637,\n 'verschijnselen': 93608,\n 'sluit': 79513,\n 'immens': 40360,\n 'populaire': 69247,\n 'reli': 72807,\n 'achterkant': 2688,\n 'mocht': 56481,\n 'buzzen': 15014,\n 'veelbelovend': 91404,\n 'ontzettend': 63172,\n 'begint': 8617,\n 'erik': 25522,\n 'winter': 100229,\n 'keert': 44656,\n 'lange': 48894,\n 'terug': 85739,\n 'zweden': 103358,\n 'gaan': 29042,\n 'valt': 90981,\n 'direct': 20970,\n 'neus': 59216,\n 'boter': 13399,\n 'drievoudige': 22758,\n 'moord': 57040,\n 'moeder': 56575,\n 'jonge': 43137,\n 'kinderen': 45399,\n 'derde': 20038,\n 'kind': 45354,\n 'ongedeerd': 61960,\n 'vraag': 96963,\n 'alleen': 4578,\n 'waarom': 97771,\n 'baby': 7215,\n 'warrig': 98194,\n 'hak': 35661,\n 'tak': 84565,\n 'springt': 81396,\n 'ene': 25099,\n 'moment': 56801,\n 'verhoor': 92651,\n 'beschreven': 9981,\n 'iemands': 40041,\n 'moordenaar': 57057,\n 'karakters': 44245,\n 'blijven': 11927,\n 'vlak': 95392,\n 'behalve': 8694,\n 'kennismaking': 44807,\n 'schrijver': 77114,\n 'smaakt': 79547,\n 'ontbreekt': 62593,\n 'grotendeels': 35100,\n 'slordig': 79424,\n 'hierna': 37760,\n 'edwardson': 23993,\n 'lekker': 49798,\n 'boekje': 12641,\n 'tussendoor': 88947,\n 'boeiend': 12433,\n 'spannend': 80520,\n 'interessanter': 41608,\n 'discussie': 21043,\n 'bestaan': 10135,\n 'vrije': 97188,\n 'afwezigheid': 3982,\n 'ervan': 25629,\n 'vervolgens': 94290,\n 'gegaan': 30342,\n 'nergens': 59092,\n 'valkyrie': 90950,\n 'onsterfelijken': 62526,\n 'fouten': 28490,\n 'rechtzetten': 72189,\n 'voorbij': 96298,\n 'geweldig': 32959,\n 'doch': 21237,\n 'gruwelijk': 35167,\n 'wilt': 100103,\n 'mogelijk': 56707,\n 'aangekomen': 1633,\n 'wou': 100840,\n 'ver': 91691,\n 'wachten': 97819,\n 'verhoef': 92632,\n 'wade': 97851,\n 'watson': 98353,\n 'easter': 23802,\n 'egg': 24309,\n 'virtual': 95214,\n 'reality': 71938,\n 'prijs': 69884,\n 'klap': 45781,\n 'onvoorstelbaar': 63382,\n 'rijk': 73528,\n 'am': 4895,\n 'ontkennen': 62734,\n 'bruine': 14455,\n 'lichtbruin': 50495,\n 'goudachtig': 34307,\n 'recht': 72071,\n 'keek': 44631,\n 'hoofd': 38521,\n 'geschoren': 32184,\n 'uitstraling': 90142,\n 'action': 2876,\n 'tannie': 84750,\n 'maria': 53431,\n 'middelbare': 55550,\n 'recepten': 72030,\n 'etem': 25820,\n 'schrijven': 77109,\n 'plaatselijke': 68242,\n 'krant': 47531,\n 'centraal': 15931,\n 'alledaags': 4572,\n 'naderhand': 58146,\n 'begin': 8576,\n 'vaart': 90711,\n 'leek': 49396,\n 'eerst': 24175,\n 'alsof': 4819,\n 'zomaar': 102728,\n 'afkomt': 3584,\n 'hoofdstuk': 38659,\n 'maak': 52359,\n 'steeds': 81989,\n 'leuke': 50075,\n 'debuut': 19457,\n 'vind': 95107,\n 'ingekort': 40898,\n 'sommige': 80292,\n 'best': 10133,\n 'langzaam': 48951,\n 'geef': 30166,\n 'getwijfeld': 32659,\n 'neigt': 58995,\n 'prachtig': 69571,\n 'zomerboek': 102748,\n 'colson': 17135,\n 'whitehead': 99707,\n 'nederland': 58795,\n 'bekend': 8863,\n 'amerika': 5058,\n 'inmiddels': 41249,\n 'tal': 84592,\n 'prijzen': 69905,\n 'behaald': 8687,\n 'ondergrondse': 61527,\n 'spoorweg': 81196,\n 'genomineerd': 31474,\n 'national': 58512,\n 'book': 13098,\n 'award': 7056,\n 'standaard': 81762,\n 'rollenverdeling': 74118,\n 'alya': 4884,\n 'heldin': 36974,\n 'jayden': 42647,\n 'jongen': 43149,\n 'blauwe': 11853,\n 'enzovoorts': 25348,\n 'aansprekende': 2038,\n 'karaktereigenschappen': 44219,\n 'uitkomen': 89897,\n 'moeite': 56649,\n 'weg': 98655,\n ...}"
     },
     "execution_count": 8,
     "metadata": {},
     "output_type": "execute_result"
    }
   ],
   "source": [
    "v.vocabulary_"
   ],
   "metadata": {
    "collapsed": false
   }
  },
  {
   "cell_type": "code",
   "execution_count": 9,
   "outputs": [
    {
     "data": {
      "text/plain": "MultinomialNB()",
      "text/html": "<style>#sk-container-id-1 {color: black;background-color: white;}#sk-container-id-1 pre{padding: 0;}#sk-container-id-1 div.sk-toggleable {background-color: white;}#sk-container-id-1 label.sk-toggleable__label {cursor: pointer;display: block;width: 100%;margin-bottom: 0;padding: 0.3em;box-sizing: border-box;text-align: center;}#sk-container-id-1 label.sk-toggleable__label-arrow:before {content: \"▸\";float: left;margin-right: 0.25em;color: #696969;}#sk-container-id-1 label.sk-toggleable__label-arrow:hover:before {color: black;}#sk-container-id-1 div.sk-estimator:hover label.sk-toggleable__label-arrow:before {color: black;}#sk-container-id-1 div.sk-toggleable__content {max-height: 0;max-width: 0;overflow: hidden;text-align: left;background-color: #f0f8ff;}#sk-container-id-1 div.sk-toggleable__content pre {margin: 0.2em;color: black;border-radius: 0.25em;background-color: #f0f8ff;}#sk-container-id-1 input.sk-toggleable__control:checked~div.sk-toggleable__content {max-height: 200px;max-width: 100%;overflow: auto;}#sk-container-id-1 input.sk-toggleable__control:checked~label.sk-toggleable__label-arrow:before {content: \"▾\";}#sk-container-id-1 div.sk-estimator input.sk-toggleable__control:checked~label.sk-toggleable__label {background-color: #d4ebff;}#sk-container-id-1 div.sk-label input.sk-toggleable__control:checked~label.sk-toggleable__label {background-color: #d4ebff;}#sk-container-id-1 input.sk-hidden--visually {border: 0;clip: rect(1px 1px 1px 1px);clip: rect(1px, 1px, 1px, 1px);height: 1px;margin: -1px;overflow: hidden;padding: 0;position: absolute;width: 1px;}#sk-container-id-1 div.sk-estimator {font-family: monospace;background-color: #f0f8ff;border: 1px dotted black;border-radius: 0.25em;box-sizing: border-box;margin-bottom: 0.5em;}#sk-container-id-1 div.sk-estimator:hover {background-color: #d4ebff;}#sk-container-id-1 div.sk-parallel-item::after {content: \"\";width: 100%;border-bottom: 1px solid gray;flex-grow: 1;}#sk-container-id-1 div.sk-label:hover label.sk-toggleable__label {background-color: #d4ebff;}#sk-container-id-1 div.sk-serial::before {content: \"\";position: absolute;border-left: 1px solid gray;box-sizing: border-box;top: 0;bottom: 0;left: 50%;z-index: 0;}#sk-container-id-1 div.sk-serial {display: flex;flex-direction: column;align-items: center;background-color: white;padding-right: 0.2em;padding-left: 0.2em;position: relative;}#sk-container-id-1 div.sk-item {position: relative;z-index: 1;}#sk-container-id-1 div.sk-parallel {display: flex;align-items: stretch;justify-content: center;background-color: white;position: relative;}#sk-container-id-1 div.sk-item::before, #sk-container-id-1 div.sk-parallel-item::before {content: \"\";position: absolute;border-left: 1px solid gray;box-sizing: border-box;top: 0;bottom: 0;left: 50%;z-index: -1;}#sk-container-id-1 div.sk-parallel-item {display: flex;flex-direction: column;z-index: 1;position: relative;background-color: white;}#sk-container-id-1 div.sk-parallel-item:first-child::after {align-self: flex-end;width: 50%;}#sk-container-id-1 div.sk-parallel-item:last-child::after {align-self: flex-start;width: 50%;}#sk-container-id-1 div.sk-parallel-item:only-child::after {width: 0;}#sk-container-id-1 div.sk-dashed-wrapped {border: 1px dashed gray;margin: 0 0.4em 0.5em 0.4em;box-sizing: border-box;padding-bottom: 0.4em;background-color: white;}#sk-container-id-1 div.sk-label label {font-family: monospace;font-weight: bold;display: inline-block;line-height: 1.2em;}#sk-container-id-1 div.sk-label-container {text-align: center;}#sk-container-id-1 div.sk-container {/* jupyter's `normalize.less` sets `[hidden] { display: none; }` but bootstrap.min.css set `[hidden] { display: none !important; }` so we also need the `!important` here to be able to override the default hidden behavior on the sphinx rendered scikit-learn.org. See: https://github.com/scikit-learn/scikit-learn/issues/21755 */display: inline-block !important;position: relative;}#sk-container-id-1 div.sk-text-repr-fallback {display: none;}</style><div id=\"sk-container-id-1\" class=\"sk-top-container\"><div class=\"sk-text-repr-fallback\"><pre>MultinomialNB()</pre><b>In a Jupyter environment, please rerun this cell to show the HTML representation or trust the notebook. <br />On GitHub, the HTML representation is unable to render, please try loading this page with nbviewer.org.</b></div><div class=\"sk-container\" hidden><div class=\"sk-item\"><div class=\"sk-estimator sk-toggleable\"><input class=\"sk-toggleable__control sk-hidden--visually\" id=\"sk-estimator-id-1\" type=\"checkbox\" checked><label for=\"sk-estimator-id-1\" class=\"sk-toggleable__label sk-toggleable__label-arrow\">MultinomialNB</label><div class=\"sk-toggleable__content\"><pre>MultinomialNB()</pre></div></div></div></div></div>"
     },
     "execution_count": 9,
     "metadata": {},
     "output_type": "execute_result"
    }
   ],
   "source": [
    "from sklearn.naive_bayes import MultinomialNB\n",
    "model = MultinomialNB()\n",
    "model.fit(X_train_cv, y_train)"
   ],
   "metadata": {
    "collapsed": false
   }
  },
  {
   "cell_type": "code",
   "execution_count": 10,
   "outputs": [],
   "source": [
    "X_test_cv = v.transform(X_test)"
   ],
   "metadata": {
    "collapsed": false
   }
  },
  {
   "cell_type": "code",
   "execution_count": 11,
   "outputs": [
    {
     "name": "stdout",
     "output_type": "stream",
     "text": [
      "              precision    recall  f1-score   support\n",
      "\n",
      "           0       0.84      0.48      0.61      8966\n",
      "           1       0.70      0.93      0.80     11664\n",
      "\n",
      "    accuracy                           0.73     20630\n",
      "   macro avg       0.77      0.70      0.70     20630\n",
      "weighted avg       0.76      0.73      0.72     20630\n",
      "\n"
     ]
    }
   ],
   "source": [
    "from sklearn.metrics import classification_report\n",
    "y_pred = model.predict(X_test_cv)\n",
    "print(classification_report(y_test, y_pred))"
   ],
   "metadata": {
    "collapsed": false
   }
  },
  {
   "cell_type": "code",
   "execution_count": 12,
   "outputs": [],
   "source": [
    "import spacy\n",
    "nlp = spacy.load(\"nl_core_news_sm\")\n",
    "def preprocess(text):\n",
    "    doc = nlp(text)\n",
    "    filtered_tokens = []\n",
    "    for token in doc:\n",
    "        if token.is_stop or token.is_punct:\n",
    "            continue\n",
    "        filtered_tokens.append(token.lemma_)\n",
    "    return \" \".join(filtered_tokens)"
   ],
   "metadata": {
    "collapsed": false
   }
  },
  {
   "cell_type": "code",
   "execution_count": 13,
   "outputs": [
    {
     "data": {
      "text/plain": "                                              review sentiment  IsPositive  \\\n0  'Can love ever be stronger than fate?' dat sta...  positive           1   \n1  Er wordt in het verhaal gebruik gemaakt van gl...  positive           1   \n2  Verder vond ik het een origineel verhaal met e...  positive           1   \n3  Ik ben gaan meeleven met Ella en vind het erg ...  positive           1   \n4            Lees ook het interview met N.J. Simmons  positive           1   \n\n                                    preprocessed_txt  \n0  Can love ever be stronger than fate staan cove...  \n1  verhaal gebruik maken glimpen verleden hoofdst...  \n2  vinden origineel verhaal interessant kijk leve...  \n3  gaan meeleav Ella vinden erg 2018 wachten wach...  \n4                        Lees interview N.J. Simmons  ",
      "text/html": "<div>\n<style scoped>\n    .dataframe tbody tr th:only-of-type {\n        vertical-align: middle;\n    }\n\n    .dataframe tbody tr th {\n        vertical-align: top;\n    }\n\n    .dataframe thead th {\n        text-align: right;\n    }\n</style>\n<table border=\"1\" class=\"dataframe\">\n  <thead>\n    <tr style=\"text-align: right;\">\n      <th></th>\n      <th>review</th>\n      <th>sentiment</th>\n      <th>IsPositive</th>\n      <th>preprocessed_txt</th>\n    </tr>\n  </thead>\n  <tbody>\n    <tr>\n      <th>0</th>\n      <td>'Can love ever be stronger than fate?' dat sta...</td>\n      <td>positive</td>\n      <td>1</td>\n      <td>Can love ever be stronger than fate staan cove...</td>\n    </tr>\n    <tr>\n      <th>1</th>\n      <td>Er wordt in het verhaal gebruik gemaakt van gl...</td>\n      <td>positive</td>\n      <td>1</td>\n      <td>verhaal gebruik maken glimpen verleden hoofdst...</td>\n    </tr>\n    <tr>\n      <th>2</th>\n      <td>Verder vond ik het een origineel verhaal met e...</td>\n      <td>positive</td>\n      <td>1</td>\n      <td>vinden origineel verhaal interessant kijk leve...</td>\n    </tr>\n    <tr>\n      <th>3</th>\n      <td>Ik ben gaan meeleven met Ella en vind het erg ...</td>\n      <td>positive</td>\n      <td>1</td>\n      <td>gaan meeleav Ella vinden erg 2018 wachten wach...</td>\n    </tr>\n    <tr>\n      <th>4</th>\n      <td>Lees ook het interview met N.J. Simmons</td>\n      <td>positive</td>\n      <td>1</td>\n      <td>Lees interview N.J. Simmons</td>\n    </tr>\n  </tbody>\n</table>\n</div>"
     },
     "execution_count": 13,
     "metadata": {},
     "output_type": "execute_result"
    }
   ],
   "source": [
    "reviews_df['preprocessed_txt'] = reviews_df.review.apply(preprocess)\n",
    "reviews_df.head()"
   ],
   "metadata": {
    "collapsed": false
   }
  },
  {
   "cell_type": "code",
   "execution_count": 14,
   "outputs": [],
   "source": [
    "from sklearn.model_selection import train_test_split\n",
    "X_train, X_test, y_train, y_test = train_test_split(reviews_df.preprocessed_txt, reviews_df.IsPositive, test_size= 0.2)"
   ],
   "metadata": {
    "collapsed": false
   }
  },
  {
   "cell_type": "code",
   "execution_count": 15,
   "outputs": [
    {
     "data": {
      "text/plain": "<82516x99816 sparse matrix of type '<class 'numpy.float64'>'\n\twith 1767203 stored elements in Compressed Sparse Row format>"
     },
     "execution_count": 15,
     "metadata": {},
     "output_type": "execute_result"
    }
   ],
   "source": [
    "v = TfidfVectorizer()\n",
    "X_train_cv = v.fit_transform(X_train.values)\n",
    "X_train_cv"
   ],
   "metadata": {
    "collapsed": false
   }
  },
  {
   "cell_type": "code",
   "execution_count": 16,
   "outputs": [
    {
     "data": {
      "text/plain": "MultinomialNB()",
      "text/html": "<style>#sk-container-id-2 {color: black;background-color: white;}#sk-container-id-2 pre{padding: 0;}#sk-container-id-2 div.sk-toggleable {background-color: white;}#sk-container-id-2 label.sk-toggleable__label {cursor: pointer;display: block;width: 100%;margin-bottom: 0;padding: 0.3em;box-sizing: border-box;text-align: center;}#sk-container-id-2 label.sk-toggleable__label-arrow:before {content: \"▸\";float: left;margin-right: 0.25em;color: #696969;}#sk-container-id-2 label.sk-toggleable__label-arrow:hover:before {color: black;}#sk-container-id-2 div.sk-estimator:hover label.sk-toggleable__label-arrow:before {color: black;}#sk-container-id-2 div.sk-toggleable__content {max-height: 0;max-width: 0;overflow: hidden;text-align: left;background-color: #f0f8ff;}#sk-container-id-2 div.sk-toggleable__content pre {margin: 0.2em;color: black;border-radius: 0.25em;background-color: #f0f8ff;}#sk-container-id-2 input.sk-toggleable__control:checked~div.sk-toggleable__content {max-height: 200px;max-width: 100%;overflow: auto;}#sk-container-id-2 input.sk-toggleable__control:checked~label.sk-toggleable__label-arrow:before {content: \"▾\";}#sk-container-id-2 div.sk-estimator input.sk-toggleable__control:checked~label.sk-toggleable__label {background-color: #d4ebff;}#sk-container-id-2 div.sk-label input.sk-toggleable__control:checked~label.sk-toggleable__label {background-color: #d4ebff;}#sk-container-id-2 input.sk-hidden--visually {border: 0;clip: rect(1px 1px 1px 1px);clip: rect(1px, 1px, 1px, 1px);height: 1px;margin: -1px;overflow: hidden;padding: 0;position: absolute;width: 1px;}#sk-container-id-2 div.sk-estimator {font-family: monospace;background-color: #f0f8ff;border: 1px dotted black;border-radius: 0.25em;box-sizing: border-box;margin-bottom: 0.5em;}#sk-container-id-2 div.sk-estimator:hover {background-color: #d4ebff;}#sk-container-id-2 div.sk-parallel-item::after {content: \"\";width: 100%;border-bottom: 1px solid gray;flex-grow: 1;}#sk-container-id-2 div.sk-label:hover label.sk-toggleable__label {background-color: #d4ebff;}#sk-container-id-2 div.sk-serial::before {content: \"\";position: absolute;border-left: 1px solid gray;box-sizing: border-box;top: 0;bottom: 0;left: 50%;z-index: 0;}#sk-container-id-2 div.sk-serial {display: flex;flex-direction: column;align-items: center;background-color: white;padding-right: 0.2em;padding-left: 0.2em;position: relative;}#sk-container-id-2 div.sk-item {position: relative;z-index: 1;}#sk-container-id-2 div.sk-parallel {display: flex;align-items: stretch;justify-content: center;background-color: white;position: relative;}#sk-container-id-2 div.sk-item::before, #sk-container-id-2 div.sk-parallel-item::before {content: \"\";position: absolute;border-left: 1px solid gray;box-sizing: border-box;top: 0;bottom: 0;left: 50%;z-index: -1;}#sk-container-id-2 div.sk-parallel-item {display: flex;flex-direction: column;z-index: 1;position: relative;background-color: white;}#sk-container-id-2 div.sk-parallel-item:first-child::after {align-self: flex-end;width: 50%;}#sk-container-id-2 div.sk-parallel-item:last-child::after {align-self: flex-start;width: 50%;}#sk-container-id-2 div.sk-parallel-item:only-child::after {width: 0;}#sk-container-id-2 div.sk-dashed-wrapped {border: 1px dashed gray;margin: 0 0.4em 0.5em 0.4em;box-sizing: border-box;padding-bottom: 0.4em;background-color: white;}#sk-container-id-2 div.sk-label label {font-family: monospace;font-weight: bold;display: inline-block;line-height: 1.2em;}#sk-container-id-2 div.sk-label-container {text-align: center;}#sk-container-id-2 div.sk-container {/* jupyter's `normalize.less` sets `[hidden] { display: none; }` but bootstrap.min.css set `[hidden] { display: none !important; }` so we also need the `!important` here to be able to override the default hidden behavior on the sphinx rendered scikit-learn.org. See: https://github.com/scikit-learn/scikit-learn/issues/21755 */display: inline-block !important;position: relative;}#sk-container-id-2 div.sk-text-repr-fallback {display: none;}</style><div id=\"sk-container-id-2\" class=\"sk-top-container\"><div class=\"sk-text-repr-fallback\"><pre>MultinomialNB()</pre><b>In a Jupyter environment, please rerun this cell to show the HTML representation or trust the notebook. <br />On GitHub, the HTML representation is unable to render, please try loading this page with nbviewer.org.</b></div><div class=\"sk-container\" hidden><div class=\"sk-item\"><div class=\"sk-estimator sk-toggleable\"><input class=\"sk-toggleable__control sk-hidden--visually\" id=\"sk-estimator-id-2\" type=\"checkbox\" checked><label for=\"sk-estimator-id-2\" class=\"sk-toggleable__label sk-toggleable__label-arrow\">MultinomialNB</label><div class=\"sk-toggleable__content\"><pre>MultinomialNB()</pre></div></div></div></div></div>"
     },
     "execution_count": 16,
     "metadata": {},
     "output_type": "execute_result"
    }
   ],
   "source": [
    "from sklearn.naive_bayes import MultinomialNB\n",
    "model = MultinomialNB()\n",
    "model.fit(X_train_cv, y_train)"
   ],
   "metadata": {
    "collapsed": false
   }
  },
  {
   "cell_type": "code",
   "execution_count": 17,
   "outputs": [],
   "source": [
    "X_test_cv = v.transform(X_test)"
   ],
   "metadata": {
    "collapsed": false
   }
  },
  {
   "cell_type": "code",
   "execution_count": 18,
   "outputs": [
    {
     "name": "stdout",
     "output_type": "stream",
     "text": [
      "              precision    recall  f1-score   support\n",
      "\n",
      "           0       0.83      0.48      0.61      8984\n",
      "           1       0.70      0.93      0.80     11646\n",
      "\n",
      "    accuracy                           0.73     20630\n",
      "   macro avg       0.77      0.70      0.70     20630\n",
      "weighted avg       0.76      0.73      0.72     20630\n",
      "\n"
     ]
    }
   ],
   "source": [
    "from sklearn.metrics import classification_report\n",
    "y_pred = model.predict(X_test_cv)\n",
    "print(classification_report(y_test, y_pred))"
   ],
   "metadata": {
    "collapsed": false
   }
  },
  {
   "cell_type": "code",
   "execution_count": 19,
   "outputs": [
    {
     "data": {
      "text/plain": "                                              review  \\\n1  Prima artikel, echter systeem niet feilloos. W...   \n2  Het systeem is makkelijk op te hangen. Alle be...   \n3  Perfecte kwaliteit, simpel met het monteren va...   \n4  Ik heb dit vorige week gekocht, met het gedach...   \n5  Een wall mount die supergemakkelijk te install...   \n\n                                    preprocessed_txt  \n1  Prima artikel systeem feilloos wallplaar volle...  \n2  systeem makkelijk afhangen benodighed zitten e...  \n3  perfect kwaliteit simpel monteren beugel tv mu...  \n4  vorig week kopen gedachte 65 inch tv afhangen ...  \n5  wall mount supergemakkelijk installeren max 10...  ",
      "text/html": "<div>\n<style scoped>\n    .dataframe tbody tr th:only-of-type {\n        vertical-align: middle;\n    }\n\n    .dataframe tbody tr th {\n        vertical-align: top;\n    }\n\n    .dataframe thead th {\n        text-align: right;\n    }\n</style>\n<table border=\"1\" class=\"dataframe\">\n  <thead>\n    <tr style=\"text-align: right;\">\n      <th></th>\n      <th>review</th>\n      <th>preprocessed_txt</th>\n    </tr>\n  </thead>\n  <tbody>\n    <tr>\n      <th>1</th>\n      <td>Prima artikel, echter systeem niet feilloos. W...</td>\n      <td>Prima artikel systeem feilloos wallplaar volle...</td>\n    </tr>\n    <tr>\n      <th>2</th>\n      <td>Het systeem is makkelijk op te hangen. Alle be...</td>\n      <td>systeem makkelijk afhangen benodighed zitten e...</td>\n    </tr>\n    <tr>\n      <th>3</th>\n      <td>Perfecte kwaliteit, simpel met het monteren va...</td>\n      <td>perfect kwaliteit simpel monteren beugel tv mu...</td>\n    </tr>\n    <tr>\n      <th>4</th>\n      <td>Ik heb dit vorige week gekocht, met het gedach...</td>\n      <td>vorig week kopen gedachte 65 inch tv afhangen ...</td>\n    </tr>\n    <tr>\n      <th>5</th>\n      <td>Een wall mount die supergemakkelijk te install...</td>\n      <td>wall mount supergemakkelijk installeren max 10...</td>\n    </tr>\n  </tbody>\n</table>\n</div>"
     },
     "execution_count": 19,
     "metadata": {},
     "output_type": "execute_result"
    }
   ],
   "source": [
    "df_vogel = pd.read_csv(r\"C:\\Users\\nikit\\Documents\\Graduation internship\\NLP\\Datasets\\vogel.csv\")\n",
    "df_vogel = df_vogel.drop(\n",
    "    ['web-scraper-order', 'web-scraper-start-url', 'products', 'products-href', 'rating ', 'next', 'next-href',\n",
    "     'review1'], axis=1)\n",
    "df_vogel = df_vogel.dropna()\n",
    "df_vogel['preprocessed_txt'] = df_vogel.review.apply(preprocess)\n",
    "df_vogel.head()"
   ],
   "metadata": {
    "collapsed": false
   }
  },
  {
   "cell_type": "code",
   "execution_count": 36,
   "outputs": [
    {
     "data": {
      "text/plain": "array([1, 1, 1, 1, 1, 1, 0, 1, 1, 1, 1, 0, 1, 0, 1, 1, 1, 1, 1, 1, 1, 0,\n       1, 1, 1, 1, 1, 1, 1, 1, 1, 1, 0, 0, 1, 1, 1, 1, 1, 1, 1, 1, 1, 0,\n       1], dtype=int64)"
     },
     "execution_count": 36,
     "metadata": {},
     "output_type": "execute_result"
    }
   ],
   "source": [
    "rev_count = v.transform(df_vogel.preprocessed_txt)\n",
    "model.predict(rev_count)"
   ],
   "metadata": {
    "collapsed": false
   }
  },
  {
   "cell_type": "code",
   "execution_count": 32,
   "outputs": [
    {
     "name": "stdout",
     "output_type": "stream",
     "text": [
      "1    38\n",
      "0     7\n",
      "dtype: int64\n"
     ]
    }
   ],
   "source": [
    "a = model.predict(rev_count)\n",
    "a = pd.DataFrame(a)\n",
    "print(a.value_counts())"
   ],
   "metadata": {
    "collapsed": false
   }
  },
  {
   "cell_type": "code",
   "execution_count": 43,
   "outputs": [
    {
     "data": {
      "text/plain": "'Ik heb twee maanden geleden gekocht. Omdat de beugel vrij prijzig toch even goedkopere proberen te zoeken, maar vaak middelmatige reviews. Dus toch maar weer voor Vogel gekozen en heb er absoluut geen spijt van. Alles klopt. Je krijgt een lading bouten voor in je tv, dus het kan eigenlijk niet misgaan. Neem geen genoegen met een B merk.'"
     },
     "execution_count": 43,
     "metadata": {},
     "output_type": "execute_result"
    }
   ],
   "source": [
    "df_vogel.review.iloc[43]"
   ],
   "metadata": {
    "collapsed": false
   }
  },
  {
   "cell_type": "code",
   "execution_count": 44,
   "outputs": [
    {
     "data": {
      "text/plain": "'twee maand kopen beugel prijzig goedkoop proberen zoeken middelmatig review Vogel kiezen absoluut spijt kloppen krijgen lading bouten tv eigenlijk misgaan nemen genoegen B Merk'"
     },
     "execution_count": 44,
     "metadata": {},
     "output_type": "execute_result"
    }
   ],
   "source": [
    "df_vogel.preprocessed_txt.iloc[43]"
   ],
   "metadata": {
    "collapsed": false
   }
  },
  {
   "cell_type": "code",
   "execution_count": null,
   "outputs": [],
   "source": [],
   "metadata": {
    "collapsed": false
   }
  }
 ],
 "metadata": {
  "kernelspec": {
   "display_name": "Python 3",
   "language": "python",
   "name": "python3"
  },
  "language_info": {
   "codemirror_mode": {
    "name": "ipython",
    "version": 2
   },
   "file_extension": ".py",
   "mimetype": "text/x-python",
   "name": "python",
   "nbconvert_exporter": "python",
   "pygments_lexer": "ipython2",
   "version": "2.7.6"
  }
 },
 "nbformat": 4,
 "nbformat_minor": 0
}
