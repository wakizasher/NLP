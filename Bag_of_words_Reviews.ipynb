{
 "cells": [
  {
   "cell_type": "code",
   "execution_count": 29,
   "metadata": {
    "collapsed": true
   },
   "outputs": [],
   "source": [
    "import pandas as pd\n",
    "import numpy as np"
   ]
  },
  {
   "cell_type": "code",
   "execution_count": 30,
   "outputs": [
    {
     "data": {
      "text/plain": "                                              review sentiment\n0  One of the other reviewers has mentioned that ...  positive\n1  A wonderful little production. <br /><br />The...  positive\n2  I thought this was a wonderful way to spend ti...  positive\n3  Basically there's a family where a little boy ...  negative\n4  Petter Mattei's \"Love in the Time of Money\" is...  positive",
      "text/html": "<div>\n<style scoped>\n    .dataframe tbody tr th:only-of-type {\n        vertical-align: middle;\n    }\n\n    .dataframe tbody tr th {\n        vertical-align: top;\n    }\n\n    .dataframe thead th {\n        text-align: right;\n    }\n</style>\n<table border=\"1\" class=\"dataframe\">\n  <thead>\n    <tr style=\"text-align: right;\">\n      <th></th>\n      <th>review</th>\n      <th>sentiment</th>\n    </tr>\n  </thead>\n  <tbody>\n    <tr>\n      <th>0</th>\n      <td>One of the other reviewers has mentioned that ...</td>\n      <td>positive</td>\n    </tr>\n    <tr>\n      <th>1</th>\n      <td>A wonderful little production. &lt;br /&gt;&lt;br /&gt;The...</td>\n      <td>positive</td>\n    </tr>\n    <tr>\n      <th>2</th>\n      <td>I thought this was a wonderful way to spend ti...</td>\n      <td>positive</td>\n    </tr>\n    <tr>\n      <th>3</th>\n      <td>Basically there's a family where a little boy ...</td>\n      <td>negative</td>\n    </tr>\n    <tr>\n      <th>4</th>\n      <td>Petter Mattei's \"Love in the Time of Money\" is...</td>\n      <td>positive</td>\n    </tr>\n  </tbody>\n</table>\n</div>"
     },
     "execution_count": 30,
     "metadata": {},
     "output_type": "execute_result"
    }
   ],
   "source": [
    "reviews_df = pd.read_csv(r\"C:\\Users\\nikit\\Documents\\Graduation internship\\NLP\\Datasets\\IMDB Dataset.csv\")\n",
    "reviews_df.head()"
   ],
   "metadata": {
    "collapsed": false
   }
  },
  {
   "cell_type": "code",
   "execution_count": 9,
   "outputs": [
    {
     "name": "stdout",
     "output_type": "stream",
     "text": [
      "<class 'pandas.core.frame.DataFrame'>\n",
      "RangeIndex: 50000 entries, 0 to 49999\n",
      "Data columns (total 2 columns):\n",
      " #   Column     Non-Null Count  Dtype \n",
      "---  ------     --------------  ----- \n",
      " 0   review     50000 non-null  object\n",
      " 1   sentiment  50000 non-null  object\n",
      "dtypes: object(2)\n",
      "memory usage: 781.4+ KB\n"
     ]
    }
   ],
   "source": [
    "reviews_df.info()"
   ],
   "metadata": {
    "collapsed": false
   }
  },
  {
   "cell_type": "code",
   "execution_count": 10,
   "outputs": [
    {
     "data": {
      "text/plain": "positive    25000\nnegative    25000\nName: sentiment, dtype: int64"
     },
     "execution_count": 10,
     "metadata": {},
     "output_type": "execute_result"
    }
   ],
   "source": [
    "reviews_df.sentiment.value_counts()\n",
    "#the dataset is well balanced(number of positive sentiment == number of negative sentiment)"
   ],
   "metadata": {
    "collapsed": false
   }
  },
  {
   "cell_type": "code",
   "execution_count": 10,
   "outputs": [],
   "source": [],
   "metadata": {
    "collapsed": false
   }
  },
  {
   "cell_type": "code",
   "execution_count": 11,
   "outputs": [
    {
     "data": {
      "text/plain": "                                              review sentiment  IsPositive?\n0  One of the other reviewers has mentioned that ...  positive            1\n1  A wonderful little production. <br /><br />The...  positive            1\n2  I thought this was a wonderful way to spend ti...  positive            1\n3  Basically there's a family where a little boy ...  negative            0\n4  Petter Mattei's \"Love in the Time of Money\" is...  positive            1",
      "text/html": "<div>\n<style scoped>\n    .dataframe tbody tr th:only-of-type {\n        vertical-align: middle;\n    }\n\n    .dataframe tbody tr th {\n        vertical-align: top;\n    }\n\n    .dataframe thead th {\n        text-align: right;\n    }\n</style>\n<table border=\"1\" class=\"dataframe\">\n  <thead>\n    <tr style=\"text-align: right;\">\n      <th></th>\n      <th>review</th>\n      <th>sentiment</th>\n      <th>IsPositive?</th>\n    </tr>\n  </thead>\n  <tbody>\n    <tr>\n      <th>0</th>\n      <td>One of the other reviewers has mentioned that ...</td>\n      <td>positive</td>\n      <td>1</td>\n    </tr>\n    <tr>\n      <th>1</th>\n      <td>A wonderful little production. &lt;br /&gt;&lt;br /&gt;The...</td>\n      <td>positive</td>\n      <td>1</td>\n    </tr>\n    <tr>\n      <th>2</th>\n      <td>I thought this was a wonderful way to spend ti...</td>\n      <td>positive</td>\n      <td>1</td>\n    </tr>\n    <tr>\n      <th>3</th>\n      <td>Basically there's a family where a little boy ...</td>\n      <td>negative</td>\n      <td>0</td>\n    </tr>\n    <tr>\n      <th>4</th>\n      <td>Petter Mattei's \"Love in the Time of Money\" is...</td>\n      <td>positive</td>\n      <td>1</td>\n    </tr>\n  </tbody>\n</table>\n</div>"
     },
     "execution_count": 11,
     "metadata": {},
     "output_type": "execute_result"
    }
   ],
   "source": [
    "#lambda x means \"for each of these values in this column do the following...\"\n",
    "\n",
    "#lambda x: 1 if x == \"positive\" else 0 CAN ALSO BE REPRESENTED AS FOLLOWING:\n",
    "\n",
    "#def get_positive_number(x):\n",
    "#    if x == 'spam':\n",
    "#        return 1\n",
    "#    return 0\n",
    "\n",
    "reviews_df['IsPositive?'] = reviews_df.sentiment.apply(lambda x: 1 if x == \"positive\" else 0)\n",
    "reviews_df.head()"
   ],
   "metadata": {
    "collapsed": false
   }
  },
  {
   "cell_type": "code",
   "execution_count": 12,
   "outputs": [
    {
     "data": {
      "text/plain": "                                              review sentiment  IsPositive\n0  One of the other reviewers has mentioned that ...  positive           1\n1  A wonderful little production. <br /><br />The...  positive           1\n2  I thought this was a wonderful way to spend ti...  positive           1\n3  Basically there's a family where a little boy ...  negative           0\n4  Petter Mattei's \"Love in the Time of Money\" is...  positive           1",
      "text/html": "<div>\n<style scoped>\n    .dataframe tbody tr th:only-of-type {\n        vertical-align: middle;\n    }\n\n    .dataframe tbody tr th {\n        vertical-align: top;\n    }\n\n    .dataframe thead th {\n        text-align: right;\n    }\n</style>\n<table border=\"1\" class=\"dataframe\">\n  <thead>\n    <tr style=\"text-align: right;\">\n      <th></th>\n      <th>review</th>\n      <th>sentiment</th>\n      <th>IsPositive</th>\n    </tr>\n  </thead>\n  <tbody>\n    <tr>\n      <th>0</th>\n      <td>One of the other reviewers has mentioned that ...</td>\n      <td>positive</td>\n      <td>1</td>\n    </tr>\n    <tr>\n      <th>1</th>\n      <td>A wonderful little production. &lt;br /&gt;&lt;br /&gt;The...</td>\n      <td>positive</td>\n      <td>1</td>\n    </tr>\n    <tr>\n      <th>2</th>\n      <td>I thought this was a wonderful way to spend ti...</td>\n      <td>positive</td>\n      <td>1</td>\n    </tr>\n    <tr>\n      <th>3</th>\n      <td>Basically there's a family where a little boy ...</td>\n      <td>negative</td>\n      <td>0</td>\n    </tr>\n    <tr>\n      <th>4</th>\n      <td>Petter Mattei's \"Love in the Time of Money\" is...</td>\n      <td>positive</td>\n      <td>1</td>\n    </tr>\n  </tbody>\n</table>\n</div>"
     },
     "execution_count": 12,
     "metadata": {},
     "output_type": "execute_result"
    }
   ],
   "source": [
    "reviews_df = reviews_df.rename(columns= {'IsPositive?': 'IsPositive'})\n",
    "reviews_df.head()"
   ],
   "metadata": {
    "collapsed": false
   }
  },
  {
   "cell_type": "code",
   "execution_count": 13,
   "outputs": [],
   "source": [
    "from sklearn.model_selection import train_test_split"
   ],
   "metadata": {
    "collapsed": false
   }
  },
  {
   "cell_type": "code",
   "execution_count": 14,
   "outputs": [],
   "source": [
    "X_train, X_test, y_train, y_test = train_test_split(reviews_df.review, reviews_df.IsPositive, test_size = 0.2)"
   ],
   "metadata": {
    "collapsed": false
   }
  },
  {
   "cell_type": "code",
   "execution_count": 15,
   "outputs": [
    {
     "data": {
      "text/plain": "(40000,)"
     },
     "execution_count": 15,
     "metadata": {},
     "output_type": "execute_result"
    }
   ],
   "source": [
    "X_train.shape"
   ],
   "metadata": {
    "collapsed": false
   }
  },
  {
   "cell_type": "code",
   "execution_count": 16,
   "outputs": [
    {
     "data": {
      "text/plain": "(10000,)"
     },
     "execution_count": 16,
     "metadata": {},
     "output_type": "execute_result"
    }
   ],
   "source": [
    "X_test.shape"
   ],
   "metadata": {
    "collapsed": false
   }
  },
  {
   "cell_type": "code",
   "execution_count": 17,
   "outputs": [
    {
     "name": "stderr",
     "output_type": "stream",
     "text": [
      "C:\\Users\\nikit\\AppData\\Local\\Temp\\ipykernel_15468\\1131843861.py:1: FutureWarning: The behavior of `series[i:j]` with an integer-dtype index is deprecated. In a future version, this will be treated as *label-based* indexing, consistent with e.g. `series[i]` lookups. To retain the old behavior, use `series.iloc[i:j]`. To get the future behavior, use `series.loc[i:j]`.\n",
      "  X_train[:4]\n"
     ]
    },
    {
     "data": {
      "text/plain": "33729    I was at first disgusted with director Sun-Woo...\n28291    OK, first, to all the haters: Get a life! I do...\n8105     Food always makes a good topic in movies, as \"...\n49513    Man about the house is a true situation comedy...\nName: review, dtype: object"
     },
     "execution_count": 17,
     "metadata": {},
     "output_type": "execute_result"
    }
   ],
   "source": [
    "X_train[:4]\n",
    "#X_train and X_test use capital X because they may have multiple columns and y_train and y_test use lower letters because it has one column (it is general accepted rule among ppl)"
   ],
   "metadata": {
    "collapsed": false
   }
  },
  {
   "cell_type": "code",
   "execution_count": 18,
   "outputs": [
    {
     "name": "stderr",
     "output_type": "stream",
     "text": [
      "C:\\Users\\nikit\\AppData\\Local\\Temp\\ipykernel_15468\\291300964.py:1: FutureWarning: The behavior of `series[i:j]` with an integer-dtype index is deprecated. In a future version, this will be treated as *label-based* indexing, consistent with e.g. `series[i]` lookups. To retain the old behavior, use `series.iloc[i:j]`. To get the future behavior, use `series.loc[i:j]`.\n",
      "  y_train[:4]\n"
     ]
    },
    {
     "data": {
      "text/plain": "33729    0\n28291    1\n8105     1\n49513    1\nName: IsPositive, dtype: int64"
     },
     "execution_count": 18,
     "metadata": {},
     "output_type": "execute_result"
    }
   ],
   "source": [
    "y_train[:4]"
   ],
   "metadata": {
    "collapsed": false
   }
  },
  {
   "cell_type": "code",
   "execution_count": 19,
   "outputs": [
    {
     "data": {
      "text/plain": "<40000x93036 sparse matrix of type '<class 'numpy.int64'>'\n\twith 5460039 stored elements in Compressed Sparse Row format>"
     },
     "execution_count": 19,
     "metadata": {},
     "output_type": "execute_result"
    }
   ],
   "source": [
    "from sklearn.feature_extraction.text import CountVectorizer\n",
    "v = CountVectorizer()\n",
    "#generate bag of words model for X_train\n",
    "X_train_cv = v.fit_transform(X_train.values)\n",
    "X_train_cv"
   ],
   "metadata": {
    "collapsed": false
   }
  },
  {
   "cell_type": "code",
   "execution_count": 20,
   "outputs": [
    {
     "data": {
      "text/plain": "array([0, 0, 0, ..., 0, 0, 0], dtype=int64)"
     },
     "execution_count": 20,
     "metadata": {},
     "output_type": "execute_result"
    }
   ],
   "source": [
    "X_train_cv.toarray()[:2][0]"
   ],
   "metadata": {
    "collapsed": false
   }
  },
  {
   "cell_type": "code",
   "execution_count": 21,
   "outputs": [
    {
     "data": {
      "text/plain": "(40000, 93036)"
     },
     "execution_count": 21,
     "metadata": {},
     "output_type": "execute_result"
    }
   ],
   "source": [
    "X_train_cv.shape\n",
    "#40000 reviews and 92917 unique words"
   ],
   "metadata": {
    "collapsed": false
   }
  },
  {
   "cell_type": "code",
   "execution_count": 22,
   "outputs": [
    {
     "data": {
      "text/plain": "['__class__',\n '__delattr__',\n '__dict__',\n '__dir__',\n '__doc__',\n '__eq__',\n '__format__',\n '__ge__',\n '__getattribute__',\n '__getstate__',\n '__gt__',\n '__hash__',\n '__init__',\n '__init_subclass__',\n '__le__',\n '__lt__',\n '__module__',\n '__ne__',\n '__new__',\n '__reduce__',\n '__reduce_ex__',\n '__repr__',\n '__setattr__',\n '__setstate__',\n '__sizeof__',\n '__str__',\n '__subclasshook__',\n '__weakref__',\n '_char_ngrams',\n '_char_wb_ngrams',\n '_check_feature_names',\n '_check_n_features',\n '_check_stop_words_consistency',\n '_check_vocabulary',\n '_count_vocab',\n '_get_param_names',\n '_get_tags',\n '_limit_features',\n '_more_tags',\n '_repr_html_',\n '_repr_html_inner',\n '_repr_mimebundle_',\n '_sort_features',\n '_stop_words_id',\n '_validate_data',\n '_validate_params',\n '_validate_vocabulary',\n '_warn_for_unused_params',\n '_white_spaces',\n '_word_ngrams',\n 'analyzer',\n 'binary',\n 'build_analyzer',\n 'build_preprocessor',\n 'build_tokenizer',\n 'decode',\n 'decode_error',\n 'dtype',\n 'encoding',\n 'fit',\n 'fit_transform',\n 'fixed_vocabulary_',\n 'get_feature_names',\n 'get_feature_names_out',\n 'get_params',\n 'get_stop_words',\n 'input',\n 'inverse_transform',\n 'lowercase',\n 'max_df',\n 'max_features',\n 'min_df',\n 'ngram_range',\n 'preprocessor',\n 'set_params',\n 'stop_words',\n 'stop_words_',\n 'strip_accents',\n 'token_pattern',\n 'tokenizer',\n 'transform',\n 'vocabulary',\n 'vocabulary_']"
     },
     "execution_count": 22,
     "metadata": {},
     "output_type": "execute_result"
    }
   ],
   "source": [
    "dir(v)\n",
    "#use dir to see all available functions"
   ],
   "metadata": {
    "collapsed": false
   }
  },
  {
   "cell_type": "code",
   "execution_count": 28,
   "outputs": [
    {
     "data": {
      "text/plain": "'unobtrusive'"
     },
     "execution_count": 28,
     "metadata": {},
     "output_type": "execute_result"
    }
   ],
   "source": [
    "v.get_feature_names_out()[86837]"
   ],
   "metadata": {
    "collapsed": false
   }
  },
  {
   "cell_type": "code",
   "execution_count": 23,
   "outputs": [
    {
     "data": {
      "text/plain": "{'was': 89652,\n 'at': 5929,\n 'first': 30663,\n 'disgusted': 23437,\n 'with': 91092,\n 'director': 23140,\n 'sun': 79834,\n 'woo': 91305,\n 'jang': 43296,\n 'because': 8090,\n 'had': 36489,\n 'felt': 29972,\n 'that': 82317,\n 'he': 37538,\n 'cheated': 14815,\n 'me': 52041,\n 'the': 82339,\n 'potential': 63731,\n 'to': 83309,\n 'create': 19244,\n 'strong': 79087,\n 'deeply': 21285,\n 'emotional': 26815,\n 'film': 30389,\n 'about': 1633,\n 'sex': 73443,\n 'and': 4083,\n 'its': 42983,\n 'effects': 26088,\n 'on': 58553,\n 'people': 61328,\n 'but': 12406,\n 'instead': 41992,\n 'chose': 15400,\n 'focus': 31324,\n 'his': 38618,\n 'strength': 78974,\n 'pornography': 63520,\n 'element': 26409,\n 'more': 54603,\n 'than': 82293,\n 'actual': 2099,\n 'human': 39758,\n 'couldn': 18786,\n 'see': 72821,\n 'characters': 14605,\n 'sloppy': 75724,\n 'introduction': 42464,\n 'which': 90375,\n 'blended': 9697,\n 'both': 10724,\n 'realism': 66977,\n 'cinema': 15682,\n 'together': 83380,\n 'amateurish': 3681,\n 'best': 8820,\n 'yet': 92174,\n 'this': 82609,\n 'remained': 68051,\n 'in': 40960,\n 'my': 55613,\n 'mind': 53362,\n 'for': 31501,\n 'days': 20854,\n 'after': 2647,\n 'viewed': 88554,\n 'it': 42939,\n 'what': 90286,\n 'stayed': 78222,\n 'wasn': 89676,\n 'story': 78757,\n 'nor': 57332,\n 'apparent': 4808,\n 'pornographic': 63518,\n 'nature': 56131,\n 'of': 58229,\n 'transition': 84208,\n 'demonstrated': 21801,\n 'between': 8888,\n 'if': 40370,\n 'you': 92313,\n 'watch': 89705,\n 'carefully': 13372,\n 'will': 90776,\n 'begin': 8277,\n 'an': 3966,\n 'exploration': 28753,\n 'phase': 61887,\n 'their': 82377,\n 'relationship': 67943,\n 'eager': 25666,\n 'jump': 44290,\n 'into': 42417,\n 'unknown': 86712,\n 'not': 57447,\n 'quite': 66056,\n 'certain': 14306,\n 'next': 56723,\n 'step': 78375,\n 'as': 5574,\n 'they': 82506,\n 'continue': 18110,\n 'meet': 52251,\n 'exploring': 28762,\n 'new': 56641,\n 'avenues': 6452,\n 'pleasure': 62844,\n 'continually': 18106,\n 'aggressor': 2728,\n 'aggressed': 2723,\n 'initially': 41734,\n 'explores': 28761,\n 'idea': 40269,\n 'is': 42813,\n 'one': 58572,\n 'control': 18199,\n 'situation': 75152,\n 'then': 82408,\n 'hauntingly': 37405,\n 'reversal': 68980,\n 'happens': 36995,\n 'when': 90348,\n 'becomes': 8123,\n 'obsessed': 58019,\n 'very': 88333,\n 'small': 75833,\n 'change': 14508,\n 'due': 25215,\n 'graphic': 35325,\n 'content': 18069,\n 'can': 12997,\n 'easily': 25752,\n 'be': 7935,\n 'missed': 53768,\n 'there': 82452,\n 'apparently': 4810,\n 'clear': 16048,\n 'near': 56260,\n 'end': 27002,\n 'cannot': 13110,\n 'live': 48575,\n 'meetings': 52254,\n 'become': 8119,\n 'less': 47836,\n 'frequent': 32213,\n 'attempts': 6083,\n 'part': 60530,\n 'normal': 57362,\n 'society': 76327,\n 'huge': 39703,\n 'exciting': 28421,\n 'right': 69371,\n 'before': 8243,\n 'your': 92337,\n 'eyes': 29002,\n 'alas': 3108,\n 'only': 58603,\n 'worth': 91526,\n 'viewing': 88559,\n 'br': 10927,\n 'ignore': 40413,\n 'those': 82676,\n 'speak': 77088,\n 'nothing': 57475,\n 'are': 5147,\n 'elements': 26412,\n 'core': 18473,\n 'underdeveloped': 86090,\n 'facet': 29093,\n 'our': 59226,\n 'lives': 48594,\n 'rarely': 66663,\n 'explored': 28758,\n 'or': 58838,\n 'talked': 81158,\n 'papers': 60261,\n 'behind': 8329,\n 'closed': 16275,\n 'doors': 24414,\n 'never': 56621,\n 'known': 45872,\n 'so': 76258,\n 'we': 89854,\n 'should': 74354,\n 'believe': 8416,\n 'while': 90385,\n 'act': 2051,\n 'itself': 42984,\n 'does': 24103,\n 'repetitive': 68343,\n 'bit': 9371,\n 'tries': 84601,\n 'up': 87316,\n 'some': 76562,\n 'constantly': 17938,\n 'changing': 14518,\n 'scenery': 71940,\n 'moving': 55019,\n 'from': 32389,\n 'hotel': 39462,\n 'room': 70050,\n 'quench': 65934,\n 'thirst': 82593,\n 'each': 25659,\n 'other': 59169,\n 'flesh': 30997,\n 'fun': 32599,\n 'again': 2679,\n 'streak': 78926,\n 'seems': 72852,\n 'make': 50289,\n 'feel': 29874,\n 'boring': 10630,\n 'leads': 47393,\n 'biggest': 9098,\n 'issue': 42925,\n 'great': 35451,\n 'gojitmal': 34722,\n 'where': 90353,\n 'failed': 29185,\n 'outside': 59377,\n 'obvious': 58066,\n 'choice': 15305,\n 'directly': 23138,\n 'side': 74661,\n 'took': 83574,\n 'scenes': 71941,\n 'repeated': 68314,\n 'them': 82391,\n 'time': 83049,\n 'without': 91113,\n 'front': 32396,\n 'us': 87502,\n 'allow': 3402,\n 'get': 33864,\n 'know': 45859,\n 'going': 34717,\n 'movie': 54980,\n 'did': 22792,\n 'want': 89528,\n 'tell': 81873,\n 'stories': 78739,\n 'would': 91545,\n 'sense': 73101,\n 'by': 12513,\n 'little': 48559,\n 'could': 18783,\n 'care': 13359,\n 'how': 39560,\n 'resolve': 68636,\n 'themselves': 82406,\n 'ending': 27034,\n 'almost': 3473,\n 'random': 66548,\n 'final': 30479,\n 'resolution': 68633,\n 'two': 85396,\n 'absolute': 1686,\n 'unknowns': 86713,\n 'have': 37423,\n 'give': 34284,\n 'credit': 19274,\n 'trying': 84946,\n 'much': 55110,\n 'attempted': 6081,\n 'sub': 79327,\n 'personal': 61603,\n 'were': 90156,\n 'lacking': 46580,\n 'just': 44369,\n 'congeal': 17679,\n 'well': 90094,\n 'brother': 11656,\n 'wife': 90694,\n 'plot': 62912,\n 'points': 63107,\n 'him': 38510,\n 'focusing': 31328,\n 'strongly': 79093,\n 'sexual': 73473,\n 'these': 82484,\n 'stronger': 79090,\n 'became': 8085,\n 'un': 85732,\n 'rememberable': 68094,\n 'down': 24635,\n 'dull': 25279,\n 'maybe': 51656,\n 'else': 26569,\n 'worked': 91438,\n 'knew': 45798,\n 'why': 90613,\n 'finally': 30489,\n 'like': 48201,\n 'say': 71736,\n 'benefited': 8568,\n 'having': 37437,\n 'score': 72315,\n 'daftly': 20314,\n 'remote': 68151,\n 'music': 55478,\n 'genre': 33684,\n 'bring': 11436,\n 'viewers': 88557,\n 'closer': 16278,\n 'emotions': 26822,\n 'being': 8349,\n 'remember': 68093,\n 'am': 3636,\n 'push': 65623,\n 'far': 29458,\n 'don': 24282,\n 'any': 4636,\n 'musical': 55479,\n 'undertones': 86220,\n 'may': 51646,\n 'been': 8194,\n 'either': 26268,\n 'stylized': 79304,\n 'done': 24308,\n 'something': 76584,\n 'allude': 3422,\n 'towards': 83898,\n 'character': 14586,\n 'beings': 8351,\n 'understand': 86190,\n 'wanted': 89531,\n 'technical': 81692,\n 'missing': 53776,\n 'quenched': 65935,\n 'desire': 22235,\n 'technically': 81695,\n 'poor': 63412,\n 'obviously': 58067,\n 'independent': 41276,\n 'symbolic': 80732,\n 'references': 67566,\n 'out': 59238,\n 'typical': 85452,\n 'didn': 22805,\n 'social': 76311,\n 'message': 52744,\n 'mentioned': 52558,\n 'above': 1637,\n 'threw': 82741,\n 'over': 59435,\n 'course': 18903,\n 'weeks': 89977,\n 'understood': 86205,\n 'sell': 72978,\n 'enough': 27233,\n 'no': 57108,\n 'larry': 47029,\n 'clark': 15939,\n 'production': 64654,\n 'par': 60282,\n 'definitely': 21414,\n 'needed': 56337,\n 'further': 32719,\n 'clicks': 16150,\n 'develop': 22481,\n 'release': 67964,\n 'overall': 59450,\n 'think': 82567,\n 'liked': 48205,\n 'smaller': 75834,\n 'enjoy': 27180,\n 'rushed': 70619,\n 'played': 62776,\n 'too': 83570,\n 'taboos': 80952,\n 'breaking': 11176,\n 'pitfalls': 62542,\n 'seen': 72854,\n 'last': 47089,\n 'scene': 71935,\n 'privy': 64536,\n 'title': 83243,\n 'conceived': 17414,\n 'uneventful': 86366,\n 'used': 87517,\n 'memorable': 52443,\n 'happening': 36993,\n 'capture': 13284,\n 'art': 5465,\n 'house': 39512,\n 'meets': 52255,\n 'miserably': 53647,\n 'effort': 26112,\n 'grade': 35183,\n 'ok': 58387,\n 'all': 3327,\n 'haters': 37348,\n 'life': 48116,\n 'even': 28157,\n 'bother': 10725,\n 'post': 63662,\n 'boards': 10034,\n 'robots': 69735,\n 'has': 37268,\n 'important': 40837,\n 'lessons': 47845,\n 'learn': 47428,\n 'gender': 33585,\n 'stereotypes': 78424,\n 'relationships': 67944,\n 'destiny': 22326,\n 'really': 66999,\n 'programmed': 64735,\n 'respond': 68683,\n 'ways': 89836,\n 'stimuli': 78550,\n 'thinking': 82573,\n 'many': 50799,\n 'times': 83072,\n 'sunset': 79885,\n 'made': 49970,\n 'trite': 84698,\n 'comment': 17031,\n 'thank': 82302,\n 'aqua': 4995,\n 'brilliantly': 11422,\n 'bernadette': 8721,\n 'peters': 61745,\n 'making': 50306,\n 'stop': 78708,\n 'awesome': 6561,\n 'power': 63817,\n 'mother': 54825,\n 'val': 87714,\n 'reject': 67897,\n 'programming': 64739,\n 'true': 84874,\n 'find': 30505,\n 'love': 49199,\n 'flee': 30967,\n 'factory': 29137,\n 'search': 72653,\n 'creative': 19254,\n 'mandatory': 50549,\n 'prisons': 64506,\n 'dreams': 24872,\n 'hopes': 39255,\n 'inspire': 41963,\n 'inmates': 41780,\n 'overcome': 59477,\n 'bad': 6880,\n 'join': 43952,\n 'rest': 68711,\n 'crime': 19382,\n 'free': 32123,\n 'world': 91468,\n 'lot': 49103,\n 'better': 8872,\n 'person': 61596,\n 'heartbeeps': 37652,\n 'food': 31443,\n 'always': 3622,\n 'makes': 50298,\n 'good': 34856,\n 'topic': 83631,\n 'movies': 55007,\n 'chocolat': 15297,\n 'showed': 74395,\n 'babette': 6726,\n 'feast': 29804,\n 'same': 71181,\n 'type': 85440,\n 'thing': 82556,\n 'harsant': 37223,\n 'stephane': 78386,\n 'audran': 6199,\n 'french': 32193,\n 'cook': 18305,\n 'who': 90541,\n 'flees': 30974,\n 'her': 38084,\n 'native': 56101,\n 'land': 46841,\n 'repression': 68430,\n '1871': 352,\n 'she': 73839,\n 'moves': 54978,\n 'religious': 68012,\n 'danish': 20559,\n 'village': 88622,\n 'simply': 74936,\n 'use': 87516,\n 'joy': 44129,\n 'until': 87209,\n 'cooks': 18317,\n 'exquisite': 28831,\n 'meals': 52055,\n 'deals': 20936,\n 'bringing': 11439,\n 'place': 62617,\n 'scandinavian': 71825,\n 'non': 57227,\n 'hollywood': 38937,\n 'general': 33595,\n 'shows': 74417,\n 'hold': 38865,\n 'interest': 42203,\n 'explosions': 28764,\n 'car': 13293,\n 'chases': 14712,\n 'etc': 27974,\n 'afford': 2581,\n 'miss': 53765,\n 'do': 23990,\n 'word': 91408,\n 'sounds': 76853,\n 'tastebud': 81470,\n 'man': 50506,\n 'comedy': 16941,\n 'every': 28209,\n 'concerns': 17446,\n 'called': 12820,\n 'robin': 69717,\n 'tripp': 84673,\n 'richard': 69220,\n 'sullivan': 79757,\n 'finds': 30512,\n 'himself': 38524,\n 'wild': 90726,\n 'party': 60601,\n 'home': 38996,\n 'ladies': 46610,\n 'jo': 43840,\n 'chrissy': 15434,\n 'ironically': 42727,\n 'held': 37884,\n 'goodbye': 34859,\n 'old': 58441,\n 'flatmate': 30906,\n 'ends': 27057,\n 'pre': 63949,\n 'cursor': 20022,\n 'cooke': 18308,\n 'mortimer': 54746,\n 'spin': 77319,\n 'off': 58236,\n 'show': 74384,\n 'george': 33752,\n 'mildred': 53201,\n 'featured': 29819,\n 'landlords': 46861,\n 'actually': 2105,\n 'turn': 85196,\n 'linchpins': 48311,\n 'late': 47109,\n 'yootha': 92273,\n 'joyce': 44130,\n 'particular': 60565,\n 'getting': 33880,\n 'lines': 48359,\n 'series': 73283,\n 'semi': 73021,\n 'regular': 67749,\n 'doug': 24594,\n 'fisher': 30688,\n 'useless': 87521,\n 'scrounge': 72514,\n 'ever': 28180,\n 'came': 12896,\n 'round': 70272,\n 'borrow': 10657,\n 'return': 68897,\n 'american': 3791,\n 'version': 88312,\n 'three': 82727,\n 'company': 17163,\n 'doesn': 24105,\n 'stand': 77986,\n 'chance': 14483,\n 'compared': 17172,\n 'funnier': 32658,\n 'original': 58998,\n 'thames': 82291,\n 'risk': 69520,\n 'producing': 64652,\n 'sharing': 73749,\n 'flat': 30892,\n 'women': 91269,\n 'conservative': 17855,\n 'worry': 91504,\n 'ratings': 66733,\n 'suggest': 79683,\n 'around': 5367,\n '20': 545,\n 'million': 53287,\n 'fashioned': 29604,\n 'inspired': 41964,\n 'casting': 13793,\n 'sharp': 73766,\n 'script': 72485,\n 'pity': 62566,\n 'modern': 54044,\n 'reach': 66907,\n 'high': 38387,\n 'standard': 77990,\n 'programme': 64734,\n 'available': 6411,\n 'network': 56566,\n 'dvd': 25527,\n 'pianist': 62144,\n 'jazz': 43463,\n 'singer': 74996,\n 'legend': 47584,\n 'ray': 66851,\n 'charles': 14653,\n 'oscar': 59096,\n 'bafta': 6947,\n 'golden': 34742,\n 'globe': 34474,\n 'winning': 90949,\n 'jamie': 43264,\n 'foxx': 31869,\n 'born': 10640,\n 'african': 2631,\n 'town': 83907,\n 'went': 90145,\n 'blind': 9731,\n 'years': 92103,\n 'skills': 75300,\n 'touch': 83825,\n 'hearing': 37633,\n 'later': 47118,\n 'lead': 47382,\n 'stardom': 78068,\n '1960': 459,\n 'accomplished': 1857,\n 'dream': 24850,\n 'selling': 72989,\n 'records': 67329,\n 'millions': 53293,\n 'leading': 47392,\n 'charts': 14704,\n 'songs': 76638,\n 'albums': 3150,\n 'also': 3533,\n 'downfalls': 24644,\n 'including': 41112,\n 'separation': 73179,\n 'child': 15128,\n 'affair': 2532,\n 'band': 7238,\n 'member': 52426,\n 'drug': 25060,\n 'alcohol': 3164,\n 'prison': 64500,\n 'starring': 78115,\n 'regina': 67710,\n 'king': 45513,\n 'margie': 50917,\n 'hendricks': 38030,\n 'kerry': 45160,\n 'washington': 89666,\n 'della': 21646,\n 'bea': 7936,\n 'robinson': 69720,\n 'clifton': 16166,\n 'powell': 63816,\n 'jeff': 43537,\n 'brown': 11675,\n 'harry': 37219,\n 'lennix': 47743,\n 'joe': 43893,\n 'adams': 2145,\n 'bokeem': 10232,\n 'woodbine': 91308,\n 'fathead': 29655,\n 'newman': 56678,\n 'aunjanue': 6244,\n 'ellis': 26523,\n 'mary': 51223,\n 'ann': 4339,\n 'sharon': 73765,\n 'warren': 89630,\n 'aretha': 5158,\n 'sanders': 71277,\n 'young': 92321,\n 'curtis': 20034,\n 'armstrong': 5334,\n 'ahmet': 2859,\n 'ertegun': 27745,\n 'schiff': 72029,\n 'jerry': 43648,\n 'wexler': 90240,\n 'impression': 40885,\n 'hit': 38650,\n 'road': 69639,\n 'jack': 43097,\n 'highlights': 38413,\n 'won': 91273,\n 'sound': 76841,\n 'mixing': 53899,\n 'nominated': 57213,\n 'costume': 18732,\n 'design': 22221,\n 'taylor': 81580,\n 'hackford': 36477,\n 'editing': 25974,\n 'motion': 54844,\n 'picture': 62212,\n 'year': 92092,\n 'anthony': 4498,\n 'asquith': 5728,\n 'award': 6541,\n 'craig': 19103,\n 'screenplay': 72445,\n 'number': 57683,\n '99': 1240,\n '100': 51,\n 'cheers': 14875,\n 'rented': 68254,\n 'mistake': 53808,\n 'thought': 82683,\n 'cursory': 20024,\n 'examination': 28338,\n 'box': 10872,\n 'travel': 84348,\n 'sci': 72247,\n 'fi': 30209,\n 'christian': 15448,\n 'suppose': 80096,\n 'fairly': 29216,\n 'example': 28347,\n 'sold': 76464,\n 'probably': 64561,\n 'overlook': 59589,\n 'awkwardness': 6578,\n 'acting': 2058,\n 'found': 31817,\n 'rather': 66729,\n 'painful': 59978,\n 'admit': 2312,\n 'bothered': 10726,\n 'rewriting': 69102,\n 'history': 38646,\n 'paints': 59997,\n '1890': 368,\n 'sort': 76780,\n 'paradise': 60307,\n 'family': 29341,\n 'values': 87803,\n 'morality': 54573,\n 'aghast': 2736,\n 'marriages': 51118,\n 'divorce': 23917,\n 'overlooks': 59593,\n 'unsavory': 87042,\n 'sides': 74679,\n 'highly': 38414,\n 'moral': 54562,\n 'rigid': 69389,\n 'racial': 66161,\n 'discrimination': 23368,\n 'widespread': 90660,\n 'instance': 41982,\n 'point': 63091,\n 'hero': 38164,\n 'complains': 17243,\n 'clothing': 16302,\n 'store': 78727,\n 'owner': 59773,\n 'things': 82565,\n 'different': 22848,\n 'complaints': 17246,\n 'iranian': 42674,\n 'leaders': 47389,\n 'styles': 79286,\n 'reported': 68391,\n 'recent': 67178,\n 'wsj': 91717,\n 'll': 48639,\n 'certainly': 14307,\n 'wholesome': 90554,\n 'expectations': 28647,\n 'throw': 82785,\n 'away': 6549,\n 'now': 57562,\n 'amount': 3895,\n 'hype': 40074,\n 'justice': 44371,\n 'categorize': 13894,\n 'single': 75002,\n 'criminal': 19392,\n 'spy': 77672,\n 'thriller': 82749,\n 'noir': 57171,\n 'bits': 9389,\n 'pieces': 62236,\n 'action': 2062,\n 'science': 72250,\n 'fiction': 30240,\n 'cyberpunk': 20160,\n 'tied': 82961,\n 'brilliant': 11420,\n 'narrative': 56009,\n 'bending': 8545,\n 'twists': 85383,\n 'gorgeous': 34984,\n 'cinematography': 15716,\n 'comments': 17045,\n 'here': 38113,\n 'centered': 14232,\n 'derivative': 22109,\n 'cribs': 19365,\n 'shakespeare': 73599,\n 'once': 58558,\n 'past': 60678,\n 're': 66899,\n 'hell': 37906,\n 'ride': 69276,\n 'need': 56336,\n 'suspend': 80296,\n 'disbelief': 23248,\n 'set': 73354,\n 'unbelievable': 85854,\n 'portions': 63569,\n 'read': 66929,\n 'elevator': 26432,\n 'suffer': 79635,\n 'low': 49244,\n 'budget': 11915,\n 'somewhat': 76593,\n 'cheesy': 14895,\n 'visuals': 88858,\n 'misconstrue': 53623,\n 'mean': 52057,\n 'level': 47904,\n 'channel': 14522,\n 'though': 82681,\n 'higher': 38396,\n 'looking': 48963,\n 'pure': 65539,\n 'psychology': 65249,\n 'willing': 90806,\n 'sit': 75129,\n 'devote': 22566,\n '90': 1199,\n 'minutes': 53517,\n 'novel': 57535,\n 'cinematic': 15701,\n 'experience': 28678,\n 'means': 52081,\n 'cool': 18319,\n 'lovely': 49223,\n 'librarian': 48043,\n 'playboy': 62774,\n 'model': 54026,\n 'kristine': 46231,\n 'debell': 21009,\n 'falls': 29289,\n 'asleep': 5693,\n 'herself': 38205,\n 'strange': 78856,\n 'filled': 30373,\n 'extremely': 28938,\n 'uninhibited': 86615,\n 'sing': 74987,\n 'dance': 20488,\n 'fool': 31448,\n 'alice': 3275,\n 'sensual': 73131,\n 'adventures': 2431,\n 'among': 3880,\n 'originally': 59001,\n 'shot': 74343,\n 'poem': 63065,\n 'eroticism': 27710,\n 'few': 30183,\n 'explicit': 28725,\n 'eventually': 28175,\n 'cut': 20095,\n 'theatrical': 82355,\n 'videocassette': 88490,\n 'versions': 88313,\n 'however': 39574,\n 'erotic': 27706,\n 'encounters': 26976,\n 'joined': 43953,\n 'producers': 64650,\n 'job': 43856,\n 'full': 32563,\n 'energy': 27077,\n 'dances': 20495,\n 'numbers': 57686,\n 'professional': 64675,\n 'lovable': 49196,\n 'doubt': 24572,\n 'adult': 2396,\n 'fairy': 29223,\n 'tales': 81148,\n 'star': 78049,\n 'cross': 19588,\n 'country': 18871,\n 'runner': 70582,\n 'dies': 22825,\n 'race': 66144,\n 'members': 52427,\n 'track': 83991,\n 'team': 81642,\n 'stalked': 77948,\n 'killed': 45416,\n 'mysterious': 55661,\n 'masked': 51276,\n 'murderer': 55394,\n 'seeking': 72840,\n 'vengeance': 88162,\n 'girl': 34220,\n 'death': 20962,\n 'beginning': 8284,\n 'least': 47446,\n 'quality': 65830,\n 'goes': 34691,\n 'dramatic': 24774,\n 'believable': 8414,\n 'sporting': 77542,\n 'events': 28172,\n 've': 88032,\n 'seem': 72845,\n 'winner': 90946,\n 'run': 70569,\n 'entire': 27368,\n 'horribly': 39340,\n 'unrealistic': 86950,\n 'female': 29975,\n 'navy': 56207,\n 'numerous': 57702,\n 'appearance': 4824,\n 'rules': 70525,\n 'jewelry': 43708,\n 'mention': 52556,\n 'fact': 29121,\n 'hair': 36589,\n 'hanging': 36919,\n 'loose': 49012,\n 'onto': 58627,\n 'collar': 16737,\n 'uniform': 86585,\n 'ridiculously': 69302,\n 'awkward': 6576,\n 'camera': 12906,\n 'angles': 4233,\n 'pathetically': 60753,\n 'gore': 34964,\n 'ranged': 66561,\n 'frighteningly': 32310,\n 'top': 83618,\n 'boringly': 10632,\n 'under': 86059,\n 'actor': 2090,\n 'help': 37960,\n 'most': 54800,\n 'unintentionally': 86637,\n 'hilarious': 38462,\n 'horror': 39356,\n 'films': 30447,\n 'hand': 36833,\n 'writing': 91684,\n 'terrible': 82110,\n 'okay': 58396,\n 'direction': 23131,\n 'horrible': 39336,\n 'worse': 91507,\n 'offensively': 58257,\n 'acceptable': 1798,\n 'plain': 62650,\n 'abysmal': 1753,\n 'regardless': 67683,\n 'embarrassingly': 26665,\n 'whether': 90365,\n 'cheese': 14877,\n 'figure': 30336,\n 'enjoyable': 27182,\n 'worthy': 91535,\n 'vanna': 87886,\n 'white': 90471,\n 'obligatory': 57952,\n 'slasher': 75478,\n 'violence': 88727,\n 'awful': 6566,\n 'blood': 9828,\n 'squirts': 77782,\n 'impossible': 40856,\n 'gashes': 33294,\n 'wounds': 91559,\n 'knives': 45832,\n 'football': 31463,\n 'nudity': 57644,\n 'linnea': 48394,\n 'quigley': 66004,\n 'overly': 59597,\n 'horny': 39324,\n 'schoolers': 72147,\n 'excess': 28400,\n 'killer': 45417,\n 'leather': 47450,\n ...}"
     },
     "execution_count": 23,
     "metadata": {},
     "output_type": "execute_result"
    }
   ],
   "source": [
    "v.vocabulary_"
   ],
   "metadata": {
    "collapsed": false
   }
  },
  {
   "cell_type": "code",
   "execution_count": 24,
   "outputs": [
    {
     "data": {
      "text/plain": "MultinomialNB()",
      "text/html": "<style>#sk-container-id-1 {color: black;background-color: white;}#sk-container-id-1 pre{padding: 0;}#sk-container-id-1 div.sk-toggleable {background-color: white;}#sk-container-id-1 label.sk-toggleable__label {cursor: pointer;display: block;width: 100%;margin-bottom: 0;padding: 0.3em;box-sizing: border-box;text-align: center;}#sk-container-id-1 label.sk-toggleable__label-arrow:before {content: \"▸\";float: left;margin-right: 0.25em;color: #696969;}#sk-container-id-1 label.sk-toggleable__label-arrow:hover:before {color: black;}#sk-container-id-1 div.sk-estimator:hover label.sk-toggleable__label-arrow:before {color: black;}#sk-container-id-1 div.sk-toggleable__content {max-height: 0;max-width: 0;overflow: hidden;text-align: left;background-color: #f0f8ff;}#sk-container-id-1 div.sk-toggleable__content pre {margin: 0.2em;color: black;border-radius: 0.25em;background-color: #f0f8ff;}#sk-container-id-1 input.sk-toggleable__control:checked~div.sk-toggleable__content {max-height: 200px;max-width: 100%;overflow: auto;}#sk-container-id-1 input.sk-toggleable__control:checked~label.sk-toggleable__label-arrow:before {content: \"▾\";}#sk-container-id-1 div.sk-estimator input.sk-toggleable__control:checked~label.sk-toggleable__label {background-color: #d4ebff;}#sk-container-id-1 div.sk-label input.sk-toggleable__control:checked~label.sk-toggleable__label {background-color: #d4ebff;}#sk-container-id-1 input.sk-hidden--visually {border: 0;clip: rect(1px 1px 1px 1px);clip: rect(1px, 1px, 1px, 1px);height: 1px;margin: -1px;overflow: hidden;padding: 0;position: absolute;width: 1px;}#sk-container-id-1 div.sk-estimator {font-family: monospace;background-color: #f0f8ff;border: 1px dotted black;border-radius: 0.25em;box-sizing: border-box;margin-bottom: 0.5em;}#sk-container-id-1 div.sk-estimator:hover {background-color: #d4ebff;}#sk-container-id-1 div.sk-parallel-item::after {content: \"\";width: 100%;border-bottom: 1px solid gray;flex-grow: 1;}#sk-container-id-1 div.sk-label:hover label.sk-toggleable__label {background-color: #d4ebff;}#sk-container-id-1 div.sk-serial::before {content: \"\";position: absolute;border-left: 1px solid gray;box-sizing: border-box;top: 0;bottom: 0;left: 50%;z-index: 0;}#sk-container-id-1 div.sk-serial {display: flex;flex-direction: column;align-items: center;background-color: white;padding-right: 0.2em;padding-left: 0.2em;position: relative;}#sk-container-id-1 div.sk-item {position: relative;z-index: 1;}#sk-container-id-1 div.sk-parallel {display: flex;align-items: stretch;justify-content: center;background-color: white;position: relative;}#sk-container-id-1 div.sk-item::before, #sk-container-id-1 div.sk-parallel-item::before {content: \"\";position: absolute;border-left: 1px solid gray;box-sizing: border-box;top: 0;bottom: 0;left: 50%;z-index: -1;}#sk-container-id-1 div.sk-parallel-item {display: flex;flex-direction: column;z-index: 1;position: relative;background-color: white;}#sk-container-id-1 div.sk-parallel-item:first-child::after {align-self: flex-end;width: 50%;}#sk-container-id-1 div.sk-parallel-item:last-child::after {align-self: flex-start;width: 50%;}#sk-container-id-1 div.sk-parallel-item:only-child::after {width: 0;}#sk-container-id-1 div.sk-dashed-wrapped {border: 1px dashed gray;margin: 0 0.4em 0.5em 0.4em;box-sizing: border-box;padding-bottom: 0.4em;background-color: white;}#sk-container-id-1 div.sk-label label {font-family: monospace;font-weight: bold;display: inline-block;line-height: 1.2em;}#sk-container-id-1 div.sk-label-container {text-align: center;}#sk-container-id-1 div.sk-container {/* jupyter's `normalize.less` sets `[hidden] { display: none; }` but bootstrap.min.css set `[hidden] { display: none !important; }` so we also need the `!important` here to be able to override the default hidden behavior on the sphinx rendered scikit-learn.org. See: https://github.com/scikit-learn/scikit-learn/issues/21755 */display: inline-block !important;position: relative;}#sk-container-id-1 div.sk-text-repr-fallback {display: none;}</style><div id=\"sk-container-id-1\" class=\"sk-top-container\"><div class=\"sk-text-repr-fallback\"><pre>MultinomialNB()</pre><b>In a Jupyter environment, please rerun this cell to show the HTML representation or trust the notebook. <br />On GitHub, the HTML representation is unable to render, please try loading this page with nbviewer.org.</b></div><div class=\"sk-container\" hidden><div class=\"sk-item\"><div class=\"sk-estimator sk-toggleable\"><input class=\"sk-toggleable__control sk-hidden--visually\" id=\"sk-estimator-id-1\" type=\"checkbox\" checked><label for=\"sk-estimator-id-1\" class=\"sk-toggleable__label sk-toggleable__label-arrow\">MultinomialNB</label><div class=\"sk-toggleable__content\"><pre>MultinomialNB()</pre></div></div></div></div></div>"
     },
     "execution_count": 24,
     "metadata": {},
     "output_type": "execute_result"
    }
   ],
   "source": [
    "from sklearn.naive_bayes import MultinomialNB\n",
    "model = MultinomialNB()\n",
    "model.fit(X_train_cv, y_train)"
   ],
   "metadata": {
    "collapsed": false
   }
  },
  {
   "cell_type": "code",
   "execution_count": 25,
   "outputs": [],
   "source": [
    "X_test_cv = v.transform(X_test)"
   ],
   "metadata": {
    "collapsed": false
   }
  },
  {
   "cell_type": "code",
   "execution_count": 26,
   "outputs": [
    {
     "name": "stdout",
     "output_type": "stream",
     "text": [
      "              precision    recall  f1-score   support\n",
      "\n",
      "           0       0.82      0.88      0.85      5042\n",
      "           1       0.87      0.81      0.84      4958\n",
      "\n",
      "    accuracy                           0.85     10000\n",
      "   macro avg       0.85      0.85      0.85     10000\n",
      "weighted avg       0.85      0.85      0.85     10000\n",
      "\n"
     ]
    }
   ],
   "source": [
    "#evaluate performance of the model\n",
    "from sklearn.metrics import classification_report\n",
    "y_pred = model.predict(X_test_cv)\n",
    "print(classification_report(y_test, y_pred))"
   ],
   "metadata": {
    "collapsed": false
   }
  },
  {
   "cell_type": "code",
   "execution_count": 27,
   "outputs": [
    {
     "data": {
      "text/plain": "array([1, 0, 0, 1, 0], dtype=int64)"
     },
     "execution_count": 27,
     "metadata": {},
     "output_type": "execute_result"
    }
   ],
   "source": [
    "#check model on external reviews, the first one should be marked as positive and the second one should be marked as negative\n",
    "rev = [ 'The Shawshank Redemption has great performances, extremely well written script and story all leading to a deeply emotional climax! One of the best dramas of all time!','I rarely stop watching a movie although how crappy it is. Well for this one I made an exception since its beyond boring. I cant leave long reviews so this is it.. SKIP IT', 'Amazingly poorly written plot', 'Amazing movie, I liked it a lot!', 'Very boring, I hate it!']\n",
    "rev_count = v.transform(rev)\n",
    "model.predict(rev_count)"
   ],
   "metadata": {
    "collapsed": false
   }
  },
  {
   "cell_type": "markdown",
   "source": [
    "To conclude: First of all I obtained raw text data where every review text was marked as positive or negative. Every positive review I marked as 1 whether negative review I maked as 0. Then I convert words in the dataset using bag of words (code line number 23). Basically I created vocabilary from the dataset words. In the machine learning part I used Naive Bayes classifier. It checks the how many times the word occures in the \"positive review\" and in \"negative review\" and then compare probabilities."
   ],
   "metadata": {
    "collapsed": false
   }
  }
 ],
 "metadata": {
  "kernelspec": {
   "display_name": "Python 3",
   "language": "python",
   "name": "python3"
  },
  "language_info": {
   "codemirror_mode": {
    "name": "ipython",
    "version": 2
   },
   "file_extension": ".py",
   "mimetype": "text/x-python",
   "name": "python",
   "nbconvert_exporter": "python",
   "pygments_lexer": "ipython2",
   "version": "2.7.6"
  }
 },
 "nbformat": 4,
 "nbformat_minor": 0
}
