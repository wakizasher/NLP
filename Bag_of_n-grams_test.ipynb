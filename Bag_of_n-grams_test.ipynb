{
 "cells": [
  {
   "cell_type": "code",
   "execution_count": 27,
   "metadata": {
    "collapsed": true
   },
   "outputs": [
    {
     "data": {
      "text/plain": "                                               review sentiment  IsPositive\n0   'Can love ever be stronger than fate?' dat sta...  positive           1\n1   Er wordt in het verhaal gebruik gemaakt van gl...  positive           1\n2   Verder vond ik het een origineel verhaal met e...  positive           1\n3   Ik ben gaan meeleven met Ella en vind het erg ...  positive           1\n4             Lees ook het interview met N.J. Simmons  positive           1\n5   Wat een geweldig boek is dit weer van Loes! Ik...  positive           1\n6   Bij het zien van Arthur Nebe op de cover verwa...  positive           1\n7   Op een boeiende en vlotte manier vertelt Kevin...  positive           1\n8   Het is niet alleen het verhaal van Arthur Nebe...  positive           1\n9   Lees verder op https://surfingann.blogspot.nl/...  positive           1\n10  Een heerlijk young adult fantasy boek, waarin ...  positive           1\n11  Veel critici verweten Ammaniti dat het boek An...  positive           1\n12  Trouwe lezers van Luc Deflo weten vooraf wat z...  positive           1\n13  De jonge Aramese, of Assyrische Esra Shabo hee...  positive           1\n14  “Esra haatte de Assyrische gemeenschap en alle...  positive           1",
      "text/html": "<div>\n<style scoped>\n    .dataframe tbody tr th:only-of-type {\n        vertical-align: middle;\n    }\n\n    .dataframe tbody tr th {\n        vertical-align: top;\n    }\n\n    .dataframe thead th {\n        text-align: right;\n    }\n</style>\n<table border=\"1\" class=\"dataframe\">\n  <thead>\n    <tr style=\"text-align: right;\">\n      <th></th>\n      <th>review</th>\n      <th>sentiment</th>\n      <th>IsPositive</th>\n    </tr>\n  </thead>\n  <tbody>\n    <tr>\n      <th>0</th>\n      <td>'Can love ever be stronger than fate?' dat sta...</td>\n      <td>positive</td>\n      <td>1</td>\n    </tr>\n    <tr>\n      <th>1</th>\n      <td>Er wordt in het verhaal gebruik gemaakt van gl...</td>\n      <td>positive</td>\n      <td>1</td>\n    </tr>\n    <tr>\n      <th>2</th>\n      <td>Verder vond ik het een origineel verhaal met e...</td>\n      <td>positive</td>\n      <td>1</td>\n    </tr>\n    <tr>\n      <th>3</th>\n      <td>Ik ben gaan meeleven met Ella en vind het erg ...</td>\n      <td>positive</td>\n      <td>1</td>\n    </tr>\n    <tr>\n      <th>4</th>\n      <td>Lees ook het interview met N.J. Simmons</td>\n      <td>positive</td>\n      <td>1</td>\n    </tr>\n    <tr>\n      <th>5</th>\n      <td>Wat een geweldig boek is dit weer van Loes! Ik...</td>\n      <td>positive</td>\n      <td>1</td>\n    </tr>\n    <tr>\n      <th>6</th>\n      <td>Bij het zien van Arthur Nebe op de cover verwa...</td>\n      <td>positive</td>\n      <td>1</td>\n    </tr>\n    <tr>\n      <th>7</th>\n      <td>Op een boeiende en vlotte manier vertelt Kevin...</td>\n      <td>positive</td>\n      <td>1</td>\n    </tr>\n    <tr>\n      <th>8</th>\n      <td>Het is niet alleen het verhaal van Arthur Nebe...</td>\n      <td>positive</td>\n      <td>1</td>\n    </tr>\n    <tr>\n      <th>9</th>\n      <td>Lees verder op https://surfingann.blogspot.nl/...</td>\n      <td>positive</td>\n      <td>1</td>\n    </tr>\n    <tr>\n      <th>10</th>\n      <td>Een heerlijk young adult fantasy boek, waarin ...</td>\n      <td>positive</td>\n      <td>1</td>\n    </tr>\n    <tr>\n      <th>11</th>\n      <td>Veel critici verweten Ammaniti dat het boek An...</td>\n      <td>positive</td>\n      <td>1</td>\n    </tr>\n    <tr>\n      <th>12</th>\n      <td>Trouwe lezers van Luc Deflo weten vooraf wat z...</td>\n      <td>positive</td>\n      <td>1</td>\n    </tr>\n    <tr>\n      <th>13</th>\n      <td>De jonge Aramese, of Assyrische Esra Shabo hee...</td>\n      <td>positive</td>\n      <td>1</td>\n    </tr>\n    <tr>\n      <th>14</th>\n      <td>“Esra haatte de Assyrische gemeenschap en alle...</td>\n      <td>positive</td>\n      <td>1</td>\n    </tr>\n  </tbody>\n</table>\n</div>"
     },
     "execution_count": 27,
     "metadata": {},
     "output_type": "execute_result"
    }
   ],
   "source": [
    "import pandas as pd\n",
    "from sklearn.feature_extraction.text import CountVectorizer\n",
    "import spacy\n",
    "df_reviews = pd.read_csv(r\"C:\\Users\\nikit\\Documents\\Graduation internship\\NLP\\Datasets\\dutch_book_reviews.csv\")\n",
    "df_reviews.head(15)"
   ]
  },
  {
   "cell_type": "code",
   "execution_count": 30,
   "outputs": [
    {
     "data": {
      "text/plain": "1    58776\n0    44370\nName: IsPositive, dtype: int64"
     },
     "execution_count": 30,
     "metadata": {},
     "output_type": "execute_result"
    }
   ],
   "source": [
    "df_reviews.IsPositive.value_counts()"
   ],
   "metadata": {
    "collapsed": false
   }
  },
  {
   "cell_type": "code",
   "execution_count": 36,
   "outputs": [],
   "source": [
    "nlp = spacy.load(\"nl_core_news_sm\")\n",
    "def preprocess(text):\n",
    "    doc = nlp(text)\n",
    "    filtered_tokens = []\n",
    "    for token in doc:\n",
    "        if token.is_stop or token.is_punct:\n",
    "            continue\n",
    "        filtered_tokens.append(token.lemma_)\n",
    "    return \" \".join(filtered_tokens)"
   ],
   "metadata": {
    "collapsed": false
   }
  },
  {
   "cell_type": "code",
   "execution_count": 38,
   "outputs": [
    {
     "data": {
      "text/plain": "                                              review sentiment  IsPositive  \\\n0  'Can love ever be stronger than fate?' dat sta...  positive           1   \n1  Er wordt in het verhaal gebruik gemaakt van gl...  positive           1   \n2  Verder vond ik het een origineel verhaal met e...  positive           1   \n3  Ik ben gaan meeleven met Ella en vind het erg ...  positive           1   \n4            Lees ook het interview met N.J. Simmons  positive           1   \n\n                                    preprocessed_txt  \n0  Can love ever be stronger than fate staan cove...  \n1  verhaal gebruik maken glimpen verleden hoofdst...  \n2  vinden origineel verhaal interessant kijk leve...  \n3  gaan meeleav Ella vinden erg 2018 wachten wach...  \n4                        Lees interview N.J. Simmons  ",
      "text/html": "<div>\n<style scoped>\n    .dataframe tbody tr th:only-of-type {\n        vertical-align: middle;\n    }\n\n    .dataframe tbody tr th {\n        vertical-align: top;\n    }\n\n    .dataframe thead th {\n        text-align: right;\n    }\n</style>\n<table border=\"1\" class=\"dataframe\">\n  <thead>\n    <tr style=\"text-align: right;\">\n      <th></th>\n      <th>review</th>\n      <th>sentiment</th>\n      <th>IsPositive</th>\n      <th>preprocessed_txt</th>\n    </tr>\n  </thead>\n  <tbody>\n    <tr>\n      <th>0</th>\n      <td>'Can love ever be stronger than fate?' dat sta...</td>\n      <td>positive</td>\n      <td>1</td>\n      <td>Can love ever be stronger than fate staan cove...</td>\n    </tr>\n    <tr>\n      <th>1</th>\n      <td>Er wordt in het verhaal gebruik gemaakt van gl...</td>\n      <td>positive</td>\n      <td>1</td>\n      <td>verhaal gebruik maken glimpen verleden hoofdst...</td>\n    </tr>\n    <tr>\n      <th>2</th>\n      <td>Verder vond ik het een origineel verhaal met e...</td>\n      <td>positive</td>\n      <td>1</td>\n      <td>vinden origineel verhaal interessant kijk leve...</td>\n    </tr>\n    <tr>\n      <th>3</th>\n      <td>Ik ben gaan meeleven met Ella en vind het erg ...</td>\n      <td>positive</td>\n      <td>1</td>\n      <td>gaan meeleav Ella vinden erg 2018 wachten wach...</td>\n    </tr>\n    <tr>\n      <th>4</th>\n      <td>Lees ook het interview met N.J. Simmons</td>\n      <td>positive</td>\n      <td>1</td>\n      <td>Lees interview N.J. Simmons</td>\n    </tr>\n  </tbody>\n</table>\n</div>"
     },
     "execution_count": 38,
     "metadata": {},
     "output_type": "execute_result"
    }
   ],
   "source": [
    "df_reviews['preprocessed_txt'] = df_reviews.review.apply(preprocess)\n",
    "df_reviews.head()"
   ],
   "metadata": {
    "collapsed": false
   }
  },
  {
   "cell_type": "code",
   "execution_count": 40,
   "outputs": [],
   "source": [
    "from sklearn.model_selection import train_test_split\n",
    "X_train, X_test, y_train, y_test = train_test_split(df_reviews.preprocessed_txt, df_reviews.IsPositive, test_size= 0.2)"
   ],
   "metadata": {
    "collapsed": false
   }
  },
  {
   "cell_type": "code",
   "execution_count": 41,
   "outputs": [
    {
     "data": {
      "text/plain": "(82516,)"
     },
     "execution_count": 41,
     "metadata": {},
     "output_type": "execute_result"
    }
   ],
   "source": [
    "X_train.shape"
   ],
   "metadata": {
    "collapsed": false
   }
  },
  {
   "cell_type": "code",
   "execution_count": 42,
   "outputs": [
    {
     "data": {
      "text/plain": "(20630,)"
     },
     "execution_count": 42,
     "metadata": {},
     "output_type": "execute_result"
    }
   ],
   "source": [
    "X_test.shape"
   ],
   "metadata": {
    "collapsed": false
   }
  },
  {
   "cell_type": "code",
   "execution_count": 43,
   "outputs": [
    {
     "name": "stderr",
     "output_type": "stream",
     "text": [
      "C:\\Users\\nikit\\AppData\\Local\\Temp\\ipykernel_20040\\2345937334.py:1: FutureWarning: The behavior of `series[i:j]` with an integer-dtype index is deprecated. In a future version, this will be treated as *label-based* indexing, consistent with e.g. `series[i]` lookups. To retain the old behavior, use `series.iloc[i:j]`. To get the future behavior, use `series.loc[i:j]`.\n",
      "  X_train[:4]\n"
     ]
    },
    {
     "data": {
      "text/plain": "96378    hoofdpersonage sympathie oproepen langdradig b...\n63245                                  dood langzaam leeft\n63634    vrouw mooi lief mysterieus allemaal sociaal na...\n7636     titel geven boek ontwikkeling zitten persoon I...\nName: preprocessed_txt, dtype: object"
     },
     "execution_count": 43,
     "metadata": {},
     "output_type": "execute_result"
    }
   ],
   "source": [
    "X_train[:4]"
   ],
   "metadata": {
    "collapsed": false
   }
  },
  {
   "cell_type": "code",
   "execution_count": 44,
   "outputs": [
    {
     "name": "stderr",
     "output_type": "stream",
     "text": [
      "C:\\Users\\nikit\\AppData\\Local\\Temp\\ipykernel_20040\\291300964.py:1: FutureWarning: The behavior of `series[i:j]` with an integer-dtype index is deprecated. In a future version, this will be treated as *label-based* indexing, consistent with e.g. `series[i]` lookups. To retain the old behavior, use `series.iloc[i:j]`. To get the future behavior, use `series.loc[i:j]`.\n",
      "  y_train[:4]\n"
     ]
    },
    {
     "data": {
      "text/plain": "96378    0\n63245    1\n63634    0\n7636     0\nName: IsPositive, dtype: int64"
     },
     "execution_count": 44,
     "metadata": {},
     "output_type": "execute_result"
    }
   ],
   "source": [
    "y_train[:4]"
   ],
   "metadata": {
    "collapsed": false
   }
  },
  {
   "cell_type": "code",
   "execution_count": 45,
   "outputs": [
    {
     "data": {
      "text/plain": "<82516x2947629 sparse matrix of type '<class 'numpy.int64'>'\n\twith 5434377 stored elements in Compressed Sparse Row format>"
     },
     "execution_count": 45,
     "metadata": {},
     "output_type": "execute_result"
    }
   ],
   "source": [
    "from sklearn.feature_extraction.text import CountVectorizer\n",
    "v = CountVectorizer(ngram_range= (1, 3))\n",
    "X_train_cv = v.fit_transform(X_train.values)\n",
    "X_train_cv"
   ],
   "metadata": {
    "collapsed": false
   }
  },
  {
   "cell_type": "code",
   "execution_count": 10,
   "outputs": [
    {
     "ename": "MemoryError",
     "evalue": "Unable to allocate 2.36 TiB for an array with shape (82516, 3925870) and data type int64",
     "output_type": "error",
     "traceback": [
      "\u001B[1;31m---------------------------------------------------------------------------\u001B[0m",
      "\u001B[1;31mMemoryError\u001B[0m                               Traceback (most recent call last)",
      "Cell \u001B[1;32mIn [10], line 1\u001B[0m\n\u001B[1;32m----> 1\u001B[0m \u001B[43mX_train_cv\u001B[49m\u001B[38;5;241;43m.\u001B[39;49m\u001B[43mtoarray\u001B[49m\u001B[43m(\u001B[49m\u001B[43m)\u001B[49m[:\u001B[38;5;241m2\u001B[39m][\u001B[38;5;241m0\u001B[39m]\n",
      "File \u001B[1;32m~\\PycharmProjects\\pythonProject1\\venv\\lib\\site-packages\\scipy\\sparse\\_compressed.py:1051\u001B[0m, in \u001B[0;36m_cs_matrix.toarray\u001B[1;34m(self, order, out)\u001B[0m\n\u001B[0;32m   1049\u001B[0m \u001B[38;5;28;01mif\u001B[39;00m out \u001B[38;5;129;01mis\u001B[39;00m \u001B[38;5;28;01mNone\u001B[39;00m \u001B[38;5;129;01mand\u001B[39;00m order \u001B[38;5;129;01mis\u001B[39;00m \u001B[38;5;28;01mNone\u001B[39;00m:\n\u001B[0;32m   1050\u001B[0m     order \u001B[38;5;241m=\u001B[39m \u001B[38;5;28mself\u001B[39m\u001B[38;5;241m.\u001B[39m_swap(\u001B[38;5;124m'\u001B[39m\u001B[38;5;124mcf\u001B[39m\u001B[38;5;124m'\u001B[39m)[\u001B[38;5;241m0\u001B[39m]\n\u001B[1;32m-> 1051\u001B[0m out \u001B[38;5;241m=\u001B[39m \u001B[38;5;28;43mself\u001B[39;49m\u001B[38;5;241;43m.\u001B[39;49m\u001B[43m_process_toarray_args\u001B[49m\u001B[43m(\u001B[49m\u001B[43morder\u001B[49m\u001B[43m,\u001B[49m\u001B[43m \u001B[49m\u001B[43mout\u001B[49m\u001B[43m)\u001B[49m\n\u001B[0;32m   1052\u001B[0m \u001B[38;5;28;01mif\u001B[39;00m \u001B[38;5;129;01mnot\u001B[39;00m (out\u001B[38;5;241m.\u001B[39mflags\u001B[38;5;241m.\u001B[39mc_contiguous \u001B[38;5;129;01mor\u001B[39;00m out\u001B[38;5;241m.\u001B[39mflags\u001B[38;5;241m.\u001B[39mf_contiguous):\n\u001B[0;32m   1053\u001B[0m     \u001B[38;5;28;01mraise\u001B[39;00m \u001B[38;5;167;01mValueError\u001B[39;00m(\u001B[38;5;124m'\u001B[39m\u001B[38;5;124mOutput array must be C or F contiguous\u001B[39m\u001B[38;5;124m'\u001B[39m)\n",
      "File \u001B[1;32m~\\PycharmProjects\\pythonProject1\\venv\\lib\\site-packages\\scipy\\sparse\\_base.py:1298\u001B[0m, in \u001B[0;36mspmatrix._process_toarray_args\u001B[1;34m(self, order, out)\u001B[0m\n\u001B[0;32m   1296\u001B[0m     \u001B[38;5;28;01mreturn\u001B[39;00m out\n\u001B[0;32m   1297\u001B[0m \u001B[38;5;28;01melse\u001B[39;00m:\n\u001B[1;32m-> 1298\u001B[0m     \u001B[38;5;28;01mreturn\u001B[39;00m \u001B[43mnp\u001B[49m\u001B[38;5;241;43m.\u001B[39;49m\u001B[43mzeros\u001B[49m\u001B[43m(\u001B[49m\u001B[38;5;28;43mself\u001B[39;49m\u001B[38;5;241;43m.\u001B[39;49m\u001B[43mshape\u001B[49m\u001B[43m,\u001B[49m\u001B[43m \u001B[49m\u001B[43mdtype\u001B[49m\u001B[38;5;241;43m=\u001B[39;49m\u001B[38;5;28;43mself\u001B[39;49m\u001B[38;5;241;43m.\u001B[39;49m\u001B[43mdtype\u001B[49m\u001B[43m,\u001B[49m\u001B[43m \u001B[49m\u001B[43morder\u001B[49m\u001B[38;5;241;43m=\u001B[39;49m\u001B[43morder\u001B[49m\u001B[43m)\u001B[49m\n",
      "\u001B[1;31mMemoryError\u001B[0m: Unable to allocate 2.36 TiB for an array with shape (82516, 3925870) and data type int64"
     ]
    }
   ],
   "source": [
    "X_train_cv.toarray()[:2][0]"
   ],
   "metadata": {
    "collapsed": false
   }
  },
  {
   "cell_type": "code",
   "execution_count": 46,
   "outputs": [
    {
     "data": {
      "text/plain": "{'hoofdpersonage': 1024764,\n 'sympathie': 2288029,\n 'oproepen': 1810513,\n 'langdradig': 1322758,\n 'beschrijving': 241359,\n 'personage': 1879940,\n 'echt': 615998,\n 'leven': 1367175,\n 'komen': 1252810,\n 'motief': 1617992,\n 'compleet': 440320,\n 'onderbelicht': 1726670,\n 'blijven': 302764,\n 'kunnen': 1301006,\n 'olssons': 1711326,\n 'thrillerdebuut': 2349627,\n 'samenvatten': 2072922,\n 'hoofdpersonage sympathie': 1026213,\n 'sympathie oproepen': 2288253,\n 'oproepen langdradig': 1810841,\n 'langdradig beschrijving': 1322828,\n 'beschrijving personage': 242573,\n 'personage echt': 1881548,\n 'echt leven': 620447,\n 'leven komen': 1372272,\n 'komen motief': 1262315,\n 'motief compleet': 1618076,\n 'compleet onderbelicht': 440760,\n 'onderbelicht blijven': 1726679,\n 'blijven kunnen': 305767,\n 'kunnen olssons': 1301619,\n 'olssons thrillerdebuut': 1711327,\n 'thrillerdebuut samenvatten': 2349755,\n 'hoofdpersonage sympathie oproepen': 1026214,\n 'sympathie oproepen langdradig': 2288257,\n 'oproepen langdradig beschrijving': 1810842,\n 'langdradig beschrijving personage': 1322834,\n 'beschrijving personage echt': 242578,\n 'personage echt leven': 1881572,\n 'echt leven komen': 620504,\n 'leven komen motief': 1372368,\n 'komen motief compleet': 1262316,\n 'motief compleet onderbelicht': 1618077,\n 'compleet onderbelicht blijven': 440761,\n 'onderbelicht blijven kunnen': 1726686,\n 'blijven kunnen olssons': 305768,\n 'kunnen olssons thrillerdebuut': 1301620,\n 'olssons thrillerdebuut samenvatten': 1711329,\n 'dood': 563798,\n 'langzaam': 1324791,\n 'leeft': 1341099,\n 'dood langzaam': 565287,\n 'langzaam leeft': 1325335,\n 'dood langzaam leeft': 565289,\n 'vrouw': 2725067,\n 'mooi': 1604200,\n 'lief': 1413633,\n 'mysterieus': 1625631,\n 'allemaal': 100244,\n 'sociaal': 2177762,\n 'naïef': 1650855,\n 'erg': 686285,\n 'gaan': 770812,\n 'onhandig': 1747172,\n 'mens': 1547140,\n 'intensiteit': 1112428,\n 'prop': 1960283,\n 'waarvan': 2757921,\n 'meisje': 1539211,\n 'aantrekkelijk': 43660,\n 'vinden': 2633942,\n 'leuk': 1363340,\n 'snel': 2170660,\n 'blok': 314205,\n 'been': 183350,\n 'ontstellend': 1768590,\n 'duidelijk': 599387,\n 'volledig': 2678281,\n 'willen': 2825338,\n 'faalangstig': 718892,\n 'bot': 375984,\n 'meteen': 1559319,\n 'beginnen': 192984,\n 'gelukkig': 833135,\n 'dag': 477433,\n 'waaien': 2735892,\n 'begeeren': 188818,\n 'milieu': 1569930,\n 'oud': 1825600,\n 'jongen': 1166809,\n 'vloeiend': 2655135,\n 'zeilcapaciteit': 2869251,\n 'auto': 152471,\n 'moeder': 1585400,\n 'hand': 943179,\n 'vrouw mooi': 2728917,\n 'mooi lief': 1606775,\n 'lief mysterieus': 1414132,\n 'mysterieus allemaal': 1625645,\n 'allemaal sociaal': 103204,\n 'sociaal naïef': 2178043,\n 'naïef erg': 1650930,\n 'erg personage': 690622,\n 'personage gaan': 1882008,\n 'gaan onhandig': 781192,\n 'onhandig mens': 1747252,\n 'mens komen': 1550143,\n 'komen intensiteit': 1259714,\n 'intensiteit prop': 1112450,\n 'prop waarvan': 1960352,\n 'waarvan meisje': 2758664,\n 'meisje aantrekkelijk': 1539321,\n 'aantrekkelijk vinden': 44044,\n 'vinden leuk': 2639905,\n 'leuk snel': 1365728,\n 'snel blok': 2171293,\n 'blok been': 314214,\n 'been ontstellend': 183614,\n 'ontstellend duidelijk': 1768593,\n 'duidelijk volledig': 603803,\n 'volledig willen': 2679687,\n 'willen faalangstig': 2825962,\n 'faalangstig bot': 718893,\n 'bot meteen': 376066,\n 'meteen willen': 1561442,\n 'willen beginnen': 2825477,\n 'beginnen gelukkig': 194837,\n 'gelukkig leven': 834065,\n 'leven meisje': 1373748,\n 'meisje dag': 1539704,\n 'dag willen': 481387,\n 'willen dag': 2825726,\n 'dag waaien': 481246,\n 'waaien begeeren': 2735897,\n 'begeeren milieu': 188825,\n 'milieu lief': 1570017,\n 'lief oud': 1414207,\n 'oud jongen': 1826950,\n 'jongen vloeiend': 1168754,\n 'vloeiend zeilcapaciteit': 2655216,\n 'zeilcapaciteit auto': 2869252,\n 'auto moeder': 152801,\n 'moeder hand': 1586797,\n 'vrouw mooi lief': 2728922,\n 'mooi lief mysterieus': 1606779,\n 'lief mysterieus allemaal': 1414133,\n 'mysterieus allemaal sociaal': 1625646,\n 'allemaal sociaal naïef': 103205,\n 'sociaal naïef erg': 2178044,\n 'naïef erg personage': 1650932,\n 'erg personage gaan': 690624,\n 'personage gaan onhandig': 1882032,\n 'gaan onhandig mens': 781193,\n 'onhandig mens komen': 1747253,\n 'mens komen intensiteit': 1550153,\n 'komen intensiteit prop': 1259715,\n 'intensiteit prop waarvan': 1112451,\n 'prop waarvan meisje': 1960353,\n 'waarvan meisje aantrekkelijk': 2758665,\n 'meisje aantrekkelijk vinden': 1539322,\n 'aantrekkelijk vinden leuk': 44047,\n 'vinden leuk snel': 2639983,\n 'leuk snel blok': 1365731,\n 'snel blok been': 2171294,\n 'blok been ontstellend': 314216,\n 'been ontstellend duidelijk': 183615,\n 'ontstellend duidelijk volledig': 1768594,\n 'duidelijk volledig willen': 603805,\n 'volledig willen faalangstig': 2679688,\n 'willen faalangstig bot': 2825963,\n 'faalangstig bot meteen': 718894,\n 'bot meteen willen': 376067,\n 'meteen willen beginnen': 1561443,\n 'willen beginnen gelukkig': 2825481,\n 'beginnen gelukkig leven': 194840,\n 'gelukkig leven meisje': 834078,\n 'leven meisje dag': 1373753,\n 'meisje dag willen': 1539705,\n 'dag willen dag': 481388,\n 'willen dag waaien': 2825727,\n 'dag waaien begeeren': 481247,\n 'waaien begeeren milieu': 2735898,\n 'begeeren milieu lief': 188826,\n 'milieu lief oud': 1570018,\n 'lief oud jongen': 1414208,\n 'oud jongen vloeiend': 1826956,\n 'jongen vloeiend zeilcapaciteit': 1168755,\n 'vloeiend zeilcapaciteit auto': 2655217,\n 'zeilcapaciteit auto moeder': 2869253,\n 'auto moeder hand': 152802,\n 'titel': 2367079,\n 'geven': 862961,\n 'boek': 320658,\n 'ontwikkeling': 1772510,\n 'zitten': 2898564,\n 'persoon': 1888446,\n 'ina': 1088275,\n 'tenmiste': 2318074,\n 'treur': 2398584,\n 'stuk': 2274287,\n 'puberaal': 1966098,\n 'kijk': 1219865,\n 'wereld': 2786716,\n 'waardoor': 2742376,\n 'ongeloofwaardig': 1742362,\n 'waarin': 2747111,\n 'spreken': 2217188,\n 'zoon': 2919440,\n 'vriend': 2713410,\n 'titel geven': 2367897,\n 'geven boek': 863367,\n 'boek ontwikkeling': 346629,\n 'ontwikkeling zitten': 1773486,\n 'zitten persoon': 2903104,\n 'persoon ina': 1889535,\n 'ina tenmiste': 1088304,\n 'tenmiste geven': 2318075,\n 'geven treur': 866156,\n 'treur ina': 2398589,\n 'ina blijven': 1088278,\n 'blijven stuk': 308247,\n 'stuk oud': 2276265,\n 'oud puberaal': 1827988,\n 'puberaal meisje': 1966120,\n 'meisje naïef': 1541005,\n 'naïef kijk': 1651005,\n 'kijk wereld': 1220386,\n 'wereld waardoor': 2791587,\n 'waardoor oud': 2744481,\n 'oud ina': 1826849,\n 'ina ongeloofwaardig': 1088298,\n 'ongeloofwaardig komen': 1742838,\n 'komen stuk': 1266312,\n 'stuk waarin': 2277471,\n 'waarin spreken': 2750501,\n 'spreken zoon': 2219086,\n 'zoon vriend': 2921821,\n 'titel geven boek': 2367899,\n 'geven boek ontwikkeling': 863436,\n 'boek ontwikkeling zitten': 346633,\n 'ontwikkeling zitten persoon': 1773487,\n 'zitten persoon ina': 2903106,\n 'persoon ina tenmiste': 1889536,\n 'ina tenmiste geven': 1088305,\n 'tenmiste geven treur': 2318076,\n 'geven treur ina': 866157,\n 'treur ina blijven': 2398590,\n 'ina blijven stuk': 1088279,\n 'blijven stuk oud': 308248,\n 'stuk oud puberaal': 2276270,\n 'oud puberaal meisje': 1827989,\n 'puberaal meisje naïef': 1966121,\n 'meisje naïef kijk': 1541006,\n 'naïef kijk wereld': 1651007,\n 'kijk wereld waardoor': 1220428,\n 'wereld waardoor oud': 2791590,\n 'waardoor oud ina': 2744482,\n 'oud ina ongeloofwaardig': 1826850,\n 'ina ongeloofwaardig komen': 1088299,\n 'ongeloofwaardig komen stuk': 1742842,\n 'komen stuk waarin': 1266333,\n 'stuk waarin spreken': 2277488,\n 'waarin spreken zoon': 2750504,\n 'spreken zoon vriend': 2219087,\n 'voornamelijk': 2690639,\n 'laura': 1338101,\n 'simon': 2144862,\n 'vallen': 2468634,\n 'raar': 1975854,\n 'pe': 1873265,\n 'sjouwen': 2150701,\n 'pakket': 1858734,\n 'twee': 2409332,\n 'jong': 1162844,\n 'laat': 1310876,\n 'vrijdagavond': 2721614,\n 'kerst': 1214197,\n 'trein': 2395910,\n 'huis': 1059335,\n 'nemen': 1662787,\n 'moment': 1597073,\n 'weten': 2805473,\n 'reis': 2009571,\n 'veranderen': 2491830,\n 'klein': 1236467,\n 'olberdink': 1710144,\n 'kwaad': 1304962,\n 'weggelo': 2776870,\n 'afspraak': 85040,\n 'volkomen': 2677631,\n 'mislukken': 1579062,\n 'avondje': 155599,\n 'moeilijk': 1590429,\n 'leeftijd': 1341194,\n 'overheersen': 1838426,\n 'bazig': 172091,\n 'zuster': 2932810,\n 'dominant': 561411,\n 'vriendin': 2717263,\n 'verkeerd': 2552588,\n 'kiezen': 1218045,\n 'werk': 2793992,\n 'matig': 1515195,\n 'bevallen': 262682,\n 'brakel': 380327,\n 'afscheid': 82224,\n 'collega': 434441,\n 'begin': 189400,\n 'dertig': 520171,\n 'baan': 158384,\n 'kwijt': 1308033,\n 'steek': 2238972,\n 'laten': 1330526,\n 'aftroggelen': 86845,\n 'verbazen': 2495533,\n 'erover': 698866,\n 'laconiek': 1316307,\n 'tegenslag': 2305882,\n 'doordat': 569726,\n 'verschrikkelijk': 2588308,\n 'gebeurtenis': 799479,\n 'jeugd': 1155349,\n 'voornemen': 2691454,\n 'nergens': 1666899,\n 'boos': 372759,\n 'uitmaken': 2442772,\n 'hindernis': 1010977,\n 'neerkomen': 1658723,\n 'erachter': 684573,\n 'lotgenoten': 1454271,\n 'vertellen': 2596954,\n 'elkaar': 660599,\n 'geheim': 819355,\n 'noodgedwongen': 1693523,\n 'nacht': 1634650,\n 'samen': 2067512,\n 'doorbrengen': 569362,\n 'maken': 1476125,\n 'dramatisch': 584792,\n 'abrupt': 53084,\n 'einde': 649320,\n 'vertrouwelijkheid': 2606236,\n 'opeens': 1793903,\n 'staan': 2221825,\n 'keuzes': 1217024,\n 'keuze': 1215853,\n 'belangrijk': 214123,\n 'henzelf': 992256,\n 'boek gaan': 331852,\n 'gaan voornamelijk': 786831,\n 'voornamelijk laura': 2691056,\n 'laura simon': 1338377,\n 'simon laura': 2145034,\n 'laura vallen': 1338429,\n 'vallen raar': 2471051,\n 'raar pe': 1976231,\n 'pe simon': 1873276,\n 'simon sjouwen': 2145145,\n 'sjouwen onhandig': 2150704,\n 'onhandig pakket': 1747270,\n 'pakket twee': 1858763,\n 'twee jong': 2412162,\n 'jong mens': 1164790,\n 'mens laat': 1550287,\n 'laat vrijdagavond': 1314524,\n 'vrijdagavond kerst': 2721617,\n 'kerst trein': 1214312,\n 'trein huis': 2396133,\n 'huis nemen': 1061051,\n 'nemen moment': 1664779,\n 'moment weten': 1601237,\n 'weten beginnen': 2806216,\n 'beginnen reis': 197267,\n 'reis leven': 2010106,\n 'leven veranderen': 1377449,\n 'veranderen laura': 2492561,\n 'laura klein': 1338230,\n 'klein olberdink': 1238333,\n 'olberdink kwaad': 1710145,\n 'kwaad weggelo': 1305527,\n 'weggelo afspraak': 2776871,\n 'afspraak volkomen': 85175,\n 'volkomen mislukken': 2677769,\n 'mislukken avondje': 1579075,\n 'avondje moeilijk': 155630,\n 'moeilijk leeftijd': 1591361,\n 'leeftijd overheersen': 1341888,\n 'overheersen moeder': 1838526,\n 'moeder bazig': 1585643,\n 'bazig zuster': 172105,\n 'zuster dominant': 2932849,\n 'dominant vriendin': 561495,\n 'vriendin verkeerd': 2719131,\n 'verkeerd kiezen': 2552924,\n 'kiezen vriend': 1219656,\n 'vriend werk': 2716645,\n 'werk matig': 2795770,\n 'matig bevallen': 1515220,\n 'bevallen simon': 262823,\n 'simon brakel': 2144920,\n 'brakel laat': 380330,\n 'laat afscheid': 1311036,\n 'afscheid nemen': 82294,\n 'nemen collega': 1663276,\n 'collega begin': 434509,\n 'begin dertig': 190133,\n 'dertig baan': 520180,\n 'baan kwijt': 158698,\n 'kwijt vriendin': 1308632,\n 'vriendin steek': 2718956,\n 'steek laten': 2239017,\n 'laten huis': 1332626,\n 'huis aftroggelen': 1059434,\n 'aftroggelen verbazen': 86848,\n 'verbazen erover': 2495615,\n 'erover laconiek': 698943,\n 'laconiek blijven': 1316312,\n 'blijven tegenslag': 308300,\n 'tegenslag komen': 2305934,\n 'komen doordat': 1256142,\n 'doordat verschrikkelijk': 571009,\n 'verschrikkelijk gebeurtenis': 2588422,\n 'gebeurtenis jeugd': 800751,\n 'jeugd voornemen': 1156451,\n 'voornemen nergens': 2691506,\n 'nergens boos': 1667039,\n 'boos uitmaken': 373036,\n 'uitmaken reis': 2443227,\n 'reis hindernis': 2009957,\n 'hindernis neerkomen': 1011003,\n 'neerkomen laura': 1658788,\n 'simon erachter': 2144946,\n 'erachter lotgenoten': 684846,\n 'lotgenoten vertellen': 1454282,\n 'vertellen elkaar': 2597940,\n 'elkaar geheim': 662009,\n 'geheim noodgedwongen': 820578,\n 'noodgedwongen nacht': 1693586,\n 'nacht dag': 1634821,\n 'dag samen': 480243,\n 'samen doorbrengen': 2068188,\n 'doorbrengen maken': 569479,\n 'maken dramatisch': 1478439,\n 'dramatisch gebeurtenis': 584861,\n 'gebeurtenis abrupt': 799575,\n 'abrupt einde': 53139,\n 'einde vertrouwelijkheid': 652957,\n 'vertrouwelijkheid opeens': 2606239,\n 'opeens staan': 1794316,\n 'staan keuzes': 2224879,\n 'keuzes maken': 1217027,\n 'maken keuze': 1481347,\n 'keuze belangrijk': 1215924,\n 'belangrijk henzelf': 214780,\n 'boek gaan voornamelijk': 332307,\n 'gaan voornamelijk laura': 786845,\n 'voornamelijk laura simon': 2691057,\n 'laura simon laura': 1338380,\n 'simon laura vallen': 2145035,\n 'laura vallen raar': 1338430,\n 'vallen raar pe': 2471052,\n 'raar pe simon': 1976232,\n 'pe simon sjouwen': 1873277,\n 'simon sjouwen onhandig': 2145146,\n 'sjouwen onhandig pakket': 2150705,\n 'onhandig pakket twee': 1747271,\n 'pakket twee jong': 1858764,\n 'twee jong mens': 2412174,\n 'jong mens laat': 1164820,\n 'mens laat vrijdagavond': 1550296,\n 'laat vrijdagavond kerst': 1314525,\n 'vrijdagavond kerst trein': 2721618,\n 'kerst trein huis': 1214313,\n 'trein huis nemen': 2396137,\n 'huis nemen moment': 1061063,\n 'nemen moment weten': 1664784,\n 'moment weten beginnen': 1601242,\n 'weten beginnen reis': 2806228,\n 'beginnen reis leven': 197272,\n 'reis leven veranderen': 2010112,\n 'leven veranderen laura': 1377463,\n 'veranderen laura klein': 2492562,\n 'laura klein olberdink': 1338231,\n 'klein olberdink kwaad': 1238334,\n 'olberdink kwaad weggelo': 1710146,\n 'kwaad weggelo afspraak': 1305528,\n 'weggelo afspraak volkomen': 2776872,\n 'afspraak volkomen mislukken': 85176,\n 'volkomen mislukken avondje': 2677770,\n 'mislukken avondje moeilijk': 1579076,\n 'avondje moeilijk leeftijd': 155631,\n 'moeilijk leeftijd overheersen': 1591362,\n 'leeftijd overheersen moeder': 1341889,\n 'overheersen moeder bazig': 1838527,\n 'moeder bazig zuster': 1585644,\n 'bazig zuster dominant': 172106,\n 'zuster dominant vriendin': 2932850,\n 'dominant vriendin verkeerd': 561496,\n 'vriendin verkeerd kiezen': 2719132,\n 'verkeerd kiezen vriend': 2552925,\n 'kiezen vriend werk': 1219658,\n 'vriend werk matig': 2716648,\n 'werk matig bevallen': 2795771,\n 'matig bevallen simon': 1515221,\n 'bevallen simon brakel': 262824,\n 'simon brakel laat': 2144921,\n 'brakel laat afscheid': 380331,\n 'laat afscheid nemen': 1311037,\n 'afscheid nemen collega': 82304,\n 'nemen collega begin': 1663278,\n 'collega begin dertig': 434510,\n 'begin dertig baan': 190134,\n 'dertig baan kwijt': 520181,\n 'baan kwijt vriendin': 158704,\n 'kwijt vriendin steek': 1308633,\n 'vriendin steek laten': 2718957,\n 'steek laten huis': 2239035,\n 'laten huis aftroggelen': 1332627,\n 'huis aftroggelen verbazen': 1059435,\n 'aftroggelen verbazen erover': 86849,\n 'verbazen erover laconiek': 2495617,\n 'erover laconiek blijven': 698944,\n 'laconiek blijven tegenslag': 1316313,\n 'blijven tegenslag komen': 308301,\n 'tegenslag komen doordat': 2305935,\n 'komen doordat verschrikkelijk': 1256214,\n 'doordat verschrikkelijk gebeurtenis': 571010,\n 'verschrikkelijk gebeurtenis jeugd': 2588427,\n 'gebeurtenis jeugd voornemen': 800769,\n 'jeugd voornemen nergens': 1156452,\n 'voornemen nergens boos': 2691507,\n 'nergens boos uitmaken': 1667040,\n 'boos uitmaken reis': 373037,\n 'uitmaken reis hindernis': 2443228,\n 'reis hindernis neerkomen': 2009958,\n 'hindernis neerkomen laura': 1011004,\n 'neerkomen laura simon': 1658789,\n 'laura simon erachter': 1338379,\n 'simon erachter lotgenoten': 2144947,\n 'erachter lotgenoten vertellen': 684847,\n 'lotgenoten vertellen elkaar': 1454283,\n 'vertellen elkaar geheim': 2597943,\n 'elkaar geheim noodgedwongen': 662018,\n 'geheim noodgedwongen nacht': 820579,\n 'noodgedwongen nacht dag': 1693587,\n 'nacht dag samen': 1634823,\n 'dag samen doorbrengen': 480245,\n 'samen doorbrengen maken': 2068189,\n 'doorbrengen maken dramatisch': 569480,\n 'maken dramatisch gebeurtenis': 1478440,\n 'dramatisch gebeurtenis abrupt': 584864,\n 'gebeurtenis abrupt einde': 799576,\n 'abrupt einde vertrouwelijkheid': 53156,\n 'einde vertrouwelijkheid opeens': 652958,\n 'vertrouwelijkheid opeens staan': 2606240,\n 'opeens staan keuzes': 1794320,\n 'staan keuzes maken': 2224880,\n 'keuzes maken keuze': 1217028,\n 'maken keuze belangrijk': 1481350,\n 'keuze belangrijk henzelf': 1215926,\n 'joe': 1159806,\n 'jonathan': 1162493,\n 'tropper': 2402001,\n 'boek joe': 337641,\n 'joe jonathan': 1159937,\n 'jonathan tropper': 1162669,\n 'boek joe jonathan': 337642,\n 'joe jonathan tropper': 1159938,\n 'verhaal': 2515360,\n 'krijgen': 1287353,\n 'tempo': 2316658,\n 'gebeuren': 794995,\n 'mysterie': 1624876,\n 'diepte': 536303,\n 'geschiedenissen': 853084,\n 'doek': 554712,\n 'doen': 556355,\n 'deel': 497721,\n 'lekkerder': 1354873,\n 'zetten': 2874773,\n 'bizar': 290113,\n 'murakami': 1621402,\n 'bloei': 313101,\n 'vaak': 2459303,\n 'vraag': 2704890,\n 'antwoord': 130402,\n 'zo': 2905802,\n 'probleem': 1953208,\n 'verhaal krijgen': 2528358,\n 'krijgen tempo': 1294703,\n 'tempo gebeuren': 2316827,\n 'gebeuren mysterie': 797486,\n 'mysterie krijgen': 1625177,\n 'krijgen diepte': 1289021,\n 'diepte geschiedenissen': 536334,\n 'geschiedenissen doek': 853085,\n 'doek doen': 554737,\n 'doen zitten': 559492,\n 'zitten deel': 2899600,\n 'deel stuk': 503379,\n 'stuk lekkerder': 2275821,\n 'lekkerder verhaal': 1354887,\n 'verhaal deel': 2520207,\n 'deel mysterie': 501647,\n 'mysterie zetten': 1625598,\n 'zetten bizar': 2875055,\n 'bizar wereld': 290617,\n 'wereld murakami': 2789522,\n 'murakami komen': 1621463,\n 'komen volledig': 1268712,\n 'volledig bloei': 2678461,\n 'bloei krijgen': 313121,\n 'krijgen vaak': 1295159,\n 'vaak murakami': 2459588,\n 'murakami vraag': 1621553,\n 'vraag antwoord': 2704986,\n 'antwoord vinden': 130921,\n 'vinden zo': 2646216,\n 'zo probleem': 2906694,\n 'verhaal krijgen tempo': 2528415,\n 'krijgen tempo gebeuren': 1294704,\n 'tempo gebeuren mysterie': 2316830,\n 'gebeuren mysterie krijgen': 797487,\n 'mysterie krijgen diepte': 1625178,\n 'krijgen diepte geschiedenissen': 1289022,\n 'diepte geschiedenissen doek': 536335,\n 'geschiedenissen doek doen': 853086,\n 'doek doen zitten': 554783,\n 'doen zitten deel': 559493,\n 'zitten deel stuk': 2899606,\n 'deel stuk lekkerder': 503381,\n 'stuk lekkerder verhaal': 2275822,\n 'lekkerder verhaal deel': 1354888,\n 'verhaal deel mysterie': 2520221,\n 'deel mysterie zetten': 501650,\n 'mysterie zetten bizar': 1625599,\n 'zetten bizar wereld': 2875057,\n 'bizar wereld murakami': 290619,\n 'wereld murakami komen': 2789523,\n 'murakami komen volledig': 1621465,\n 'komen volledig bloei': 1268714,\n 'volledig bloei krijgen': 2678462,\n 'bloei krijgen vaak': 313122,\n 'krijgen vaak murakami': 1295163,\n 'vaak murakami vraag': 2459589,\n 'murakami vraag antwoord': 1621554,\n 'vraag antwoord vinden': 2704997,\n 'antwoord vinden zo': 130943,\n 'vinden zo probleem': 2646229,\n 'drie': 587434,\n 'reeks': 2002577,\n 'bridget': 387184,\n 'heel': 962341,\n 'jaart': 1140636,\n 'wonen': 2838933,\n 'londen': 1445950,\n 'kind': 1223893,\n 'tand': 2296937,\n 'tijd': 2355207,\n 'afslaan': 83013,\n 'proberen': 1950231,\n 'verzot': 2624302,\n 'calorierijk': 406908,\n 'voedsel': 2660720,\n 'alcoholhoudend': 95063,\n 'drank': 585361,\n 'vastbesloten': 2478111,\n 'middelbaar': 1565697,\n 'goed': 889525,\n 'mee': 1522391,\n 'nakomen': 1639886,\n 'nieuwighed': 1679888,\n 'twitter': 2420528,\n 'eindelijk': 653532,\n 'uitvinden': 2448139,\n 'afstandsbediening': 86253,\n 'helpen': 988604,\n 'graag': 907826,\n 'liefdesgebied': 1417988,\n 'ontdekken': 1755328,\n 'nieuw': 1675177,\n 'ding': 540809,\n 'drie deel': 587958,\n 'deel reeks': 502473,\n 'reeks bridget': 2002788,\n 'bridget heel': 387189,\n 'heel jaart': 965934,\n 'jaart oud': 1140643,\n 'oud wonen': 1828981,\n 'wonen londen': 2840099,\n 'londen twee': 1446469,\n 'twee kind': 2412457,\n 'kind tand': 1227599,\n 'tand tijd': 2297038,\n 'tijd beginnen': 2355626,\n 'beginnen afslaan': 193227,\n 'afslaan proberen': 83063,\n 'proberen jong': 1951404,\n 'jong blijven': 1163117,\n 'blijven bridget': 303664,\n 'bridget verzot': 387218,\n 'verzot calorierijk': 2624304,\n 'calorierijk voedsel': 406911,\n 'voedsel alcoholhoudend': 2660723,\n 'alcoholhoudend drank': 95064,\n 'drank vastbesloten': 585667,\n 'vastbesloten vrouw': 2478233,\n 'vrouw middelbaar': 2728769,\n 'middelbaar leeftijd': 1565706,\n 'leeftijd goed': 1341560,\n 'goed mee': 895886,\n 'mee nakomen': 1525714,\n 'nakomen nieuwighed': 1639928,\n 'nieuwighed tijd': 1679891,\n 'tijd gaan': 2356810,\n 'gaan twitter': 785212,\n 'twitter nemen': 2420561,\n 'nemen eindelijk': 1663553,\n 'eindelijk uitvinden': 654325,\n 'uitvinden afstandsbediening': 2448148,\n 'afstandsbediening huis': 86256,\n 'huis kind': 1060596,\n 'kind helpen': 1225452,\n 'helpen graag': 989031,\n 'graag mee': 908741,\n 'mee liefdesgebied': 1525141,\n 'liefdesgebied ontdekken': 1417993,\n 'ontdekken nieuw': 1756402,\n 'nieuw ding': 1676082,\n 'drie deel reeks': 588108,\n 'deel reeks bridget': 502488,\n 'reeks bridget heel': 2002789,\n 'bridget heel jaart': 387190,\n 'heel jaart oud': 965936,\n 'jaart oud wonen': 1140644,\n 'oud wonen londen': 1828983,\n 'wonen londen twee': 2840109,\n 'londen twee kind': 1446471,\n 'twee kind tand': 2412547,\n 'kind tand tijd': 1227600,\n 'tand tijd beginnen': 2297041,\n 'tijd beginnen afslaan': 2355627,\n 'beginnen afslaan proberen': 193229,\n 'afslaan proberen jong': 83064,\n 'proberen jong blijven': 1951405,\n 'jong blijven bridget': 1163118,\n 'blijven bridget verzot': 303665,\n 'bridget verzot calorierijk': 387219,\n 'verzot calorierijk voedsel': 2624305,\n 'calorierijk voedsel alcoholhoudend': 406912,\n 'voedsel alcoholhoudend drank': 2660724,\n 'alcoholhoudend drank vastbesloten': 95066,\n 'drank vastbesloten vrouw': 585669,\n 'vastbesloten vrouw middelbaar': 2478234,\n 'vrouw middelbaar leeftijd': 2728770,\n 'middelbaar leeftijd goed': 1565717,\n 'leeftijd goed mee': 1341563,\n 'goed mee nakomen': 895904,\n 'mee nakomen nieuwighed': 1525717,\n 'nakomen nieuwighed tijd': 1639929,\n 'nieuwighed tijd gaan': 1679892,\n 'tijd gaan twitter': 2356859,\n 'gaan twitter nemen': 785213,\n 'twitter nemen eindelijk': 2420562,\n 'nemen eindelijk uitvinden': 1663555,\n 'eindelijk uitvinden afstandsbediening': 654326,\n 'uitvinden afstandsbediening huis': 2448149,\n 'afstandsbediening huis kind': 86257,\n 'huis kind helpen': 1060597,\n 'kind helpen graag': 1225453,\n 'helpen graag mee': 989032,\n 'graag mee liefdesgebied': 908748,\n 'mee liefdesgebied ontdekken': 1525142,\n 'liefdesgebied ontdekken nieuw': 1417994,\n 'ontdekken nieuw ding': 1756403,\n 'once': 1723856,\n 'ther': 2340714,\n 'girl': 884884,\n 'who': 2818626,\n 'drawn': 586056,\n 'to': 2370361,\n 'wicked': 2819069,\n 'things': 2341774,\n 'once ther': 1723869,\n 'ther girl': 2340736,\n 'girl who': 885055,\n 'who drawn': 2818663,\n 'drawn to': 586059,\n 'to wicked': 2371035,\n 'wicked things': 2819087,\n 'once ther girl': 1723870,\n 'ther girl who': 2340737,\n 'girl who drawn': 885057,\n 'who drawn to': 2818664,\n 'drawn to wicked': 586061,\n 'to wicked things': 2371036,\n 'trevor': 2398874,\n 'noah': 1685901,\n 'diep': 533458,\n 'apartheid': 132091,\n 'wortelen': 2849221,\n 'facet': 719567,\n 'zuid': 2929265,\n 'afrika': 81098,\n 'officieel': 1707719,\n 'beëindigen': 276453,\n 'zes': 2872654,\n 'jaar': 1132614,\n 'inbakken': 1088373,\n 'maatschappij': 1468575,\n 'zomaar': 2915810,\n 'verdrijven': 2505618,\n 'beschrijven': 236760,\n 'aantal': 40111,\n 'schokken': 2091940,\n 'alsnog': 108022,\n 'veroorzaken': 2575924,\n 'aanliep': 33787,\n 'tonen': 2383151,\n 'gevolg': 871518,\n 'zichtbaar': 2879105,\n 'duidelijk verhaal': 603528,\n 'verhaal trevor': 2539411,\n 'trevor noah': 2398899,\n 'noah diep': 1685930,\n 'diep apartheid': 533490,\n 'apartheid wortelen': 132141,\n 'wortelen facet': 2849226,\n 'facet leven': 719599,\n 'leven zuid': 1379176,\n 'zuid afrika': 2929266,\n 'afrika officieel': 81342,\n 'officieel apartheid': 1707726,\n 'apartheid beëindigen': 132096,\n 'beëindigen noah': 276507,\n 'noah zes': 1686086,\n 'zes jaar': 2872840,\n 'jaar apartheid': 1133365,\n 'apartheid zitten': 132143,\n 'zitten inbakken': 2901272,\n 'inbakken maatschappij': 1088374,\n 'maatschappij zomaar': 1469100,\n 'zomaar verdrijven': 2916363,\n 'verdrijven noah': 2505640,\n 'noah beschrijven': 1685908,\n 'beschrijven aantal': 236789,\n 'aantal schokken': 42266,\n 'schokken moment': 2092082,\n 'moment waarin': 1601087,\n 'waarin jeugd': 2748804,\n 'jeugd alsnog': 1155398,\n 'alsnog apartheid': 108047,\n 'apartheid veroorzaken': 132137,\n 'veroorzaken probleem': 2576170,\n 'probleem aanliep': 1953231,\n 'aanliep verhaal': 33788,\n 'verhaal tonen': 2539192,\n 'tonen jaar': 2383428,\n 'apartheid gevolg': 132105,\n 'gevolg goed': 871960,\n 'goed zichtbaar': 902753,\n 'zichtbaar gevolg': 2879154,\n 'duidelijk verhaal trevor': 603568,\n 'verhaal trevor noah': 2539412,\n 'trevor noah diep': 2398901,\n 'noah diep apartheid': 1685931,\n 'diep apartheid wortelen': 533491,\n 'apartheid wortelen facet': 132142,\n 'wortelen facet leven': 2849227,\n 'facet leven zuid': 719603,\n 'leven zuid afrika': 1379177,\n 'zuid afrika officieel': 2929317,\n 'afrika officieel apartheid': 81343,\n 'officieel apartheid beëindigen': 1707727,\n 'apartheid beëindigen noah': 132097,\n 'beëindigen noah zes': 276508,\n 'noah zes jaar': 1686087,\n 'zes jaar apartheid': 2872842,\n 'jaar apartheid zitten': 1133367,\n 'apartheid zitten inbakken': 132144,\n 'zitten inbakken maatschappij': 2901273,\n 'inbakken maatschappij zomaar': 1088375,\n 'maatschappij zomaar verdrijven': 1469101,\n 'zomaar verdrijven noah': 2916364,\n 'verdrijven noah beschrijven': 2505641,\n 'noah beschrijven aantal': 1685909,\n 'beschrijven aantal schokken': 236792,\n 'aantal schokken moment': 42267,\n 'schokken moment waarin': 2092084,\n 'moment waarin jeugd': 1601090,\n 'waarin jeugd alsnog': 2748805,\n 'jeugd alsnog apartheid': 1155399,\n 'alsnog apartheid veroorzaken': 108048,\n 'apartheid veroorzaken probleem': 132138,\n 'veroorzaken probleem aanliep': 2576171,\n 'probleem aanliep verhaal': 1953232,\n 'aanliep verhaal tonen': 33789,\n 'verhaal tonen jaar': 2539198,\n 'tonen jaar apartheid': 2383429,\n 'jaar apartheid gevolg': 1133366,\n 'apartheid gevolg goed': 132106,\n 'gevolg goed zichtbaar': 871963,\n 'goed zichtbaar gevolg': 902755,\n 'bieden': 277723,\n 'enorm': 679936,\n 'breed': 381949,\n 'basis': 170363,\n 'wetenswaardighed': 2817034,\n 'bereidings': 229130,\n 'tip': 2366151,\n 'trucs': 2404323,\n 'zien': 2882447,\n 'schaaldier': 2080249,\n 'vers': 2581636,\n 'scheid': 2083330,\n 'ei': 640213,\n 'stoofvlees': 2260607,\n 'botersaus': 376333,\n 'smelten': 2167543,\n 'chocolade': 422535,\n 'omelet': 1712390,\n 'bevatten': 263123,\n 'etiquette': 707607,\n 'lijst': 1434497,\n 'sterrenrestaurant': 2251259,\n 'dragen': 582669,\n 'studentenvoer': 2272662,\n 'boek bieden': 325438,\n 'bieden enorm': 277931,\n 'enorm breed': 680163,\n 'breed basis': 381958,\n 'basis wetenswaardighed': 170948,\n 'wetenswaardighed bereidings': 2817037,\n 'bereidings tip': 229131,\n 'tip trucs': 2366459,\n 'trucs zien': 2404371,\n 'zien schaaldier': 2888798,\n 'schaaldier vers': 2080254,\n 'vers scheid': 2581764,\n 'scheid ei': 2083333,\n 'ei geheim': 640272,\n 'geheim stoofvlees': 821028,\n 'stoofvlees maken': 2260608,\n 'maken botersaus': 1477618,\n 'botersaus smelten': 376334,\n 'smelten chocolade': 2167550,\n 'chocolade maken': 422562,\n 'maken omelet': 1483556,\n 'omelet laat': 1712393,\n 'laat bevatten': 1311192,\n 'bevatten boek': 263254,\n 'boek etiquette': 331048,\n 'etiquette lijst': 707625,\n 'lijst sterrenrestaurant': 1434896,\n 'sterrenrestaurant dragen': 2251260,\n 'dragen echt': 582883,\n 'echt studentenvoer': 623473,\n 'boek bieden enorm': 325446,\n 'bieden enorm breed': 277932,\n 'enorm breed basis': 680164,\n 'breed basis wetenswaardighed': 381960,\n 'basis wetenswaardighed bereidings': 170949,\n 'wetenswaardighed bereidings tip': 2817038,\n 'bereidings tip trucs': 229132,\n 'tip trucs zien': 2366461,\n 'trucs zien schaaldier': 2404372,\n 'zien schaaldier vers': 2888799,\n 'schaaldier vers scheid': 2080255,\n 'vers scheid ei': 2581765,\n 'scheid ei geheim': 2083334,\n 'ei geheim stoofvlees': 640273,\n 'geheim stoofvlees maken': 821029,\n 'stoofvlees maken botersaus': 2260609,\n 'maken botersaus smelten': 1477619,\n 'botersaus smelten chocolade': 376335,\n 'smelten chocolade maken': 2167552,\n 'chocolade maken omelet': 422564,\n 'maken omelet laat': 1483557,\n 'omelet laat bevatten': 1712394,\n 'laat bevatten boek': 1311193,\n 'bevatten boek etiquette': 263261,\n 'boek etiquette lijst': 331049,\n 'etiquette lijst sterrenrestaurant': 707626,\n 'lijst sterrenrestaurant dragen': 1434897,\n 'sterrenrestaurant dragen echt': 2251261,\n 'dragen echt studentenvoer': 582885,\n 'opbouw': 1789900,\n 'ryder': 2063036,\n 'vertonen': 2604393,\n 'gelijkenis': 828667,\n 'da': 465458,\n 'vinci': 2633641,\n 'code': 432847,\n 'vermoorden': 2572182,\n 'geleerde': 827334,\n 'boodschap': 370256,\n 'ontcijferd': 1755083,\n 'dienen': 532205,\n 'benodigd': 225209,\n 'expertise': 715785,\n ...}"
     },
     "execution_count": 46,
     "metadata": {},
     "output_type": "execute_result"
    }
   ],
   "source": [
    "v.vocabulary_"
   ],
   "metadata": {
    "collapsed": false
   }
  },
  {
   "cell_type": "markdown",
   "source": [],
   "metadata": {
    "collapsed": false
   }
  },
  {
   "cell_type": "code",
   "execution_count": 47,
   "outputs": [
    {
     "data": {
      "text/plain": "MultinomialNB()",
      "text/html": "<style>#sk-container-id-2 {color: black;background-color: white;}#sk-container-id-2 pre{padding: 0;}#sk-container-id-2 div.sk-toggleable {background-color: white;}#sk-container-id-2 label.sk-toggleable__label {cursor: pointer;display: block;width: 100%;margin-bottom: 0;padding: 0.3em;box-sizing: border-box;text-align: center;}#sk-container-id-2 label.sk-toggleable__label-arrow:before {content: \"▸\";float: left;margin-right: 0.25em;color: #696969;}#sk-container-id-2 label.sk-toggleable__label-arrow:hover:before {color: black;}#sk-container-id-2 div.sk-estimator:hover label.sk-toggleable__label-arrow:before {color: black;}#sk-container-id-2 div.sk-toggleable__content {max-height: 0;max-width: 0;overflow: hidden;text-align: left;background-color: #f0f8ff;}#sk-container-id-2 div.sk-toggleable__content pre {margin: 0.2em;color: black;border-radius: 0.25em;background-color: #f0f8ff;}#sk-container-id-2 input.sk-toggleable__control:checked~div.sk-toggleable__content {max-height: 200px;max-width: 100%;overflow: auto;}#sk-container-id-2 input.sk-toggleable__control:checked~label.sk-toggleable__label-arrow:before {content: \"▾\";}#sk-container-id-2 div.sk-estimator input.sk-toggleable__control:checked~label.sk-toggleable__label {background-color: #d4ebff;}#sk-container-id-2 div.sk-label input.sk-toggleable__control:checked~label.sk-toggleable__label {background-color: #d4ebff;}#sk-container-id-2 input.sk-hidden--visually {border: 0;clip: rect(1px 1px 1px 1px);clip: rect(1px, 1px, 1px, 1px);height: 1px;margin: -1px;overflow: hidden;padding: 0;position: absolute;width: 1px;}#sk-container-id-2 div.sk-estimator {font-family: monospace;background-color: #f0f8ff;border: 1px dotted black;border-radius: 0.25em;box-sizing: border-box;margin-bottom: 0.5em;}#sk-container-id-2 div.sk-estimator:hover {background-color: #d4ebff;}#sk-container-id-2 div.sk-parallel-item::after {content: \"\";width: 100%;border-bottom: 1px solid gray;flex-grow: 1;}#sk-container-id-2 div.sk-label:hover label.sk-toggleable__label {background-color: #d4ebff;}#sk-container-id-2 div.sk-serial::before {content: \"\";position: absolute;border-left: 1px solid gray;box-sizing: border-box;top: 0;bottom: 0;left: 50%;z-index: 0;}#sk-container-id-2 div.sk-serial {display: flex;flex-direction: column;align-items: center;background-color: white;padding-right: 0.2em;padding-left: 0.2em;position: relative;}#sk-container-id-2 div.sk-item {position: relative;z-index: 1;}#sk-container-id-2 div.sk-parallel {display: flex;align-items: stretch;justify-content: center;background-color: white;position: relative;}#sk-container-id-2 div.sk-item::before, #sk-container-id-2 div.sk-parallel-item::before {content: \"\";position: absolute;border-left: 1px solid gray;box-sizing: border-box;top: 0;bottom: 0;left: 50%;z-index: -1;}#sk-container-id-2 div.sk-parallel-item {display: flex;flex-direction: column;z-index: 1;position: relative;background-color: white;}#sk-container-id-2 div.sk-parallel-item:first-child::after {align-self: flex-end;width: 50%;}#sk-container-id-2 div.sk-parallel-item:last-child::after {align-self: flex-start;width: 50%;}#sk-container-id-2 div.sk-parallel-item:only-child::after {width: 0;}#sk-container-id-2 div.sk-dashed-wrapped {border: 1px dashed gray;margin: 0 0.4em 0.5em 0.4em;box-sizing: border-box;padding-bottom: 0.4em;background-color: white;}#sk-container-id-2 div.sk-label label {font-family: monospace;font-weight: bold;display: inline-block;line-height: 1.2em;}#sk-container-id-2 div.sk-label-container {text-align: center;}#sk-container-id-2 div.sk-container {/* jupyter's `normalize.less` sets `[hidden] { display: none; }` but bootstrap.min.css set `[hidden] { display: none !important; }` so we also need the `!important` here to be able to override the default hidden behavior on the sphinx rendered scikit-learn.org. See: https://github.com/scikit-learn/scikit-learn/issues/21755 */display: inline-block !important;position: relative;}#sk-container-id-2 div.sk-text-repr-fallback {display: none;}</style><div id=\"sk-container-id-2\" class=\"sk-top-container\"><div class=\"sk-text-repr-fallback\"><pre>MultinomialNB()</pre><b>In a Jupyter environment, please rerun this cell to show the HTML representation or trust the notebook. <br />On GitHub, the HTML representation is unable to render, please try loading this page with nbviewer.org.</b></div><div class=\"sk-container\" hidden><div class=\"sk-item\"><div class=\"sk-estimator sk-toggleable\"><input class=\"sk-toggleable__control sk-hidden--visually\" id=\"sk-estimator-id-2\" type=\"checkbox\" checked><label for=\"sk-estimator-id-2\" class=\"sk-toggleable__label sk-toggleable__label-arrow\">MultinomialNB</label><div class=\"sk-toggleable__content\"><pre>MultinomialNB()</pre></div></div></div></div></div>"
     },
     "execution_count": 47,
     "metadata": {},
     "output_type": "execute_result"
    }
   ],
   "source": [
    "from sklearn.naive_bayes import MultinomialNB\n",
    "model = MultinomialNB()\n",
    "model.fit(X_train_cv, y_train)"
   ],
   "metadata": {
    "collapsed": false
   }
  },
  {
   "cell_type": "code",
   "execution_count": 48,
   "outputs": [],
   "source": [
    "X_test_cv = v.transform(X_test)"
   ],
   "metadata": {
    "collapsed": false
   }
  },
  {
   "cell_type": "code",
   "execution_count": 49,
   "outputs": [
    {
     "name": "stdout",
     "output_type": "stream",
     "text": [
      "              precision    recall  f1-score   support\n",
      "\n",
      "           0       0.80      0.61      0.69      8936\n",
      "           1       0.75      0.89      0.81     11694\n",
      "\n",
      "    accuracy                           0.77     20630\n",
      "   macro avg       0.77      0.75      0.75     20630\n",
      "weighted avg       0.77      0.77      0.76     20630\n",
      "\n"
     ]
    }
   ],
   "source": [
    "from sklearn.metrics import classification_report\n",
    "y_pred = model.predict(X_test_cv)\n",
    "print(classification_report(y_test, y_pred))"
   ],
   "metadata": {
    "collapsed": false
   }
  },
  {
   "cell_type": "code",
   "execution_count": 50,
   "outputs": [
    {
     "data": {
      "text/plain": "array([1, 1, 1, 1, 1, 1], dtype=int64)"
     },
     "execution_count": 50,
     "metadata": {},
     "output_type": "execute_result"
    }
   ],
   "source": [
    "rev = ['''De kwaliteit die ik van Vogel's gewend ben. Mooie vormgeving. De handleiding is duidelijk en overzichtelijk. De onderdelen zijn heel handig verpakt zodat je precies weet wat je nodig hebt.''','''Hoewel bedoeld voor de professional is het systeem ook door een handige doe-het-zelver te monteren. In mijn geval bovenaan de wand boven de schuifdeuren. Dus niet alleen geschikt voor plafondmontage en een schuin plafond maafr ook voor aan de wand. Wel heel zorgvuldig tewerk gaan want je wilt niet dat tv omlaag komt.\n",
    "Alleen de twee zwarte afdekkappen vind ik niet zo mooi omdat ze nog een aantal bouten in het zicht laten.''','''Zou zogezegd passen op epson projectors maar dit is niet waar. (toch allesinds voor Epson TW7100) je kan de beugel niet vastmaken aan de projector.''','''Handig en gemakkelijk te plaatsen met de ingebouwde waterpas en de stap voor stap handleiding.''','''Fijne steun, echter deze een beetje moeten aanpassen omdat deze toch niet helemaal paste op onze oude TV, terwijl ik wel het juiste nummer had gevonden. De voedingskabel kan er nu niet uit.''','']\n",
    "rev_count = v.transform(rev)\n",
    "model.predict(rev_count)"
   ],
   "metadata": {
    "collapsed": false
   }
  },
  {
   "cell_type": "code",
   "execution_count": 57,
   "outputs": [
    {
     "data": {
      "text/plain": "                                              review  \\\n1  Prima artikel, echter systeem niet feilloos. W...   \n2  Het systeem is makkelijk op te hangen. Alle be...   \n3  Perfecte kwaliteit, simpel met het monteren va...   \n4  Ik heb dit vorige week gekocht, met het gedach...   \n5  Een wall mount die supergemakkelijk te install...   \n\n                                    preprocessed_txt  \n1  Prima artikel systeem feilloos wallplaar volle...  \n2  systeem makkelijk afhangen benodighed zitten e...  \n3  perfect kwaliteit simpel monteren beugel tv mu...  \n4  vorig week kopen gedachte 65 inch tv afhangen ...  \n5  wall mount supergemakkelijk installeren max 10...  ",
      "text/html": "<div>\n<style scoped>\n    .dataframe tbody tr th:only-of-type {\n        vertical-align: middle;\n    }\n\n    .dataframe tbody tr th {\n        vertical-align: top;\n    }\n\n    .dataframe thead th {\n        text-align: right;\n    }\n</style>\n<table border=\"1\" class=\"dataframe\">\n  <thead>\n    <tr style=\"text-align: right;\">\n      <th></th>\n      <th>review</th>\n      <th>preprocessed_txt</th>\n    </tr>\n  </thead>\n  <tbody>\n    <tr>\n      <th>1</th>\n      <td>Prima artikel, echter systeem niet feilloos. W...</td>\n      <td>Prima artikel systeem feilloos wallplaar volle...</td>\n    </tr>\n    <tr>\n      <th>2</th>\n      <td>Het systeem is makkelijk op te hangen. Alle be...</td>\n      <td>systeem makkelijk afhangen benodighed zitten e...</td>\n    </tr>\n    <tr>\n      <th>3</th>\n      <td>Perfecte kwaliteit, simpel met het monteren va...</td>\n      <td>perfect kwaliteit simpel monteren beugel tv mu...</td>\n    </tr>\n    <tr>\n      <th>4</th>\n      <td>Ik heb dit vorige week gekocht, met het gedach...</td>\n      <td>vorig week kopen gedachte 65 inch tv afhangen ...</td>\n    </tr>\n    <tr>\n      <th>5</th>\n      <td>Een wall mount die supergemakkelijk te install...</td>\n      <td>wall mount supergemakkelijk installeren max 10...</td>\n    </tr>\n  </tbody>\n</table>\n</div>"
     },
     "execution_count": 57,
     "metadata": {},
     "output_type": "execute_result"
    }
   ],
   "source": [
    "df_vogel = pd.read_csv(r\"C:\\Users\\nikit\\Documents\\Graduation internship\\NLP\\Datasets\\vogel.csv\")\n",
    "df_vogel = df_vogel.drop(['web-scraper-order', 'web-scraper-start-url', 'products', 'products-href','rating ', 'next','next-href','review1'], axis = 1)\n",
    "df_vogel = df_vogel.dropna()\n",
    "df_vogel['preprocessed_txt'] = df_vogel.review.apply(preprocess)\n",
    "df_vogel.head()"
   ],
   "metadata": {
    "collapsed": false
   }
  },
  {
   "cell_type": "code",
   "execution_count": 59,
   "outputs": [
    {
     "data": {
      "text/plain": "array([1, 1, 1, 1, 1, 0, 1, 1, 1, 1, 1, 0, 1, 0, 1, 1, 1, 1, 1, 1, 1, 0,\n       0, 1, 1, 1, 1, 1, 1, 1, 0, 1, 0, 0, 1, 1, 1, 1, 1, 1, 1, 1, 1, 0,\n       1], dtype=int64)"
     },
     "execution_count": 59,
     "metadata": {},
     "output_type": "execute_result"
    }
   ],
   "source": [
    "rev_count = v.transform(df_vogel.preprocessed_txt)\n",
    "model.predict(rev_count)"
   ],
   "metadata": {
    "collapsed": false
   }
  },
  {
   "cell_type": "code",
   "execution_count": 60,
   "outputs": [
    {
     "name": "stdout",
     "output_type": "stream",
     "text": [
      "1    36\n",
      "0     9\n",
      "dtype: int64\n"
     ]
    }
   ],
   "source": [
    "a = model.predict(rev_count)\n",
    "a = pd.DataFrame(a)\n",
    "print(a.value_counts())"
   ],
   "metadata": {
    "collapsed": false
   }
  },
  {
   "cell_type": "code",
   "execution_count": null,
   "outputs": [],
   "source": [],
   "metadata": {
    "collapsed": false
   }
  }
 ],
 "metadata": {
  "kernelspec": {
   "display_name": "Python 3",
   "language": "python",
   "name": "python3"
  },
  "language_info": {
   "codemirror_mode": {
    "name": "ipython",
    "version": 2
   },
   "file_extension": ".py",
   "mimetype": "text/x-python",
   "name": "python",
   "nbconvert_exporter": "python",
   "pygments_lexer": "ipython2",
   "version": "2.7.6"
  }
 },
 "nbformat": 4,
 "nbformat_minor": 0
}
